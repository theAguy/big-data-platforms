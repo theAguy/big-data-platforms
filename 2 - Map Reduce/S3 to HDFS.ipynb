{
 "cells": [
  {
   "cell_type": "code",
   "execution_count": 1,
   "metadata": {
    "collapsed": true,
    "jupyter": {
     "outputs_hidden": true
    },
    "tags": []
   },
   "outputs": [
    {
     "name": "stdout",
     "output_type": "stream",
     "text": [
      "Found 4 items\n",
      "drwxrwxrwx   - hadoop hadoop          0 1970-01-01 00:00 s3://afeka-big-data-course/Data/Encyclopaedia Britannica\n",
      "drwxrwxrwx   - hadoop hadoop          0 1970-01-01 00:00 s3://afeka-big-data-course/Data/Gutenberg\n",
      "drwxrwxrwx   - hadoop hadoop          0 1970-01-01 00:00 s3://afeka-big-data-course/Data/Wikipedia\n",
      "-rw-rw-rw-   1 hadoop hadoop    5444268 2020-08-14 08:40 s3://afeka-big-data-course/Data/books.json\n"
     ]
    }
   ],
   "source": [
    "!hadoop fs -ls s3://afeka-big-data-course/Data"
   ]
  },
  {
   "cell_type": "code",
   "execution_count": 4,
   "metadata": {},
   "outputs": [],
   "source": [
    "mkdir data"
   ]
  },
  {
   "cell_type": "code",
   "execution_count": 5,
   "metadata": {},
   "outputs": [
    {
     "name": "stdout",
     "output_type": "stream",
     "text": [
      "/home/hadoop/data\n"
     ]
    }
   ],
   "source": [
    "cd data"
   ]
  },
  {
   "cell_type": "code",
   "execution_count": 6,
   "metadata": {},
   "outputs": [],
   "source": [
    "ls"
   ]
  },
  {
   "cell_type": "code",
   "execution_count": 7,
   "metadata": {
    "collapsed": true,
    "jupyter": {
     "outputs_hidden": true
    },
    "tags": []
   },
   "outputs": [
    {
     "name": "stdout",
     "output_type": "stream",
     "text": [
      "21/04/24 15:07:49 INFO tools.OptionsParser: parseChunkSize: blocksperchunk false\n",
      "21/04/24 15:07:50 INFO tools.DistCp: Input Options: DistCpOptions{atomicCommit=false, syncFolder=false, deleteMissing=false, ignoreFailures=false, overwrite=false, append=false, useDiff=false, useRdiff=false, fromSnapshot=null, toSnapshot=null, skipCRC=false, blocking=true, numListstatusThreads=0, maxMaps=20, mapBandwidth=100, sslConfigurationFile='null', copyStrategy='uniformsize', preserveStatus=[], preserveRawXattrs=false, atomicWorkPath=null, logPath=null, sourceFileListing=null, sourcePaths=[s3://afeka-big-data-course/Data/Gutenberg], targetPath=, targetPathExists=true, filtersFile='null', blocksPerChunk=0, copyBufferSize=8192, verboseLog=false}\n",
      "21/04/24 15:07:50 INFO client.RMProxy: Connecting to ResourceManager at ip-172-31-69-228.ec2.internal/172.31.69.228:8032\n",
      "21/04/24 15:07:51 INFO client.AHSProxy: Connecting to Application History server at ip-172-31-69-228.ec2.internal/172.31.69.228:10200\n",
      "21/04/24 15:07:55 INFO tools.SimpleCopyListing: Paths (files+dirs) cnt = 4; dirCnt = 1\n",
      "21/04/24 15:07:55 INFO tools.SimpleCopyListing: Build file listing completed.\n",
      "21/04/24 15:07:55 INFO Configuration.deprecation: io.sort.mb is deprecated. Instead, use mapreduce.task.io.sort.mb\n",
      "21/04/24 15:07:55 INFO Configuration.deprecation: io.sort.factor is deprecated. Instead, use mapreduce.task.io.sort.factor\n",
      "21/04/24 15:07:55 INFO tools.DistCp: Number of paths in the copy list: 4\n",
      "21/04/24 15:07:55 INFO tools.DistCp: Number of paths in the copy list: 4\n",
      "21/04/24 15:07:55 INFO client.RMProxy: Connecting to ResourceManager at ip-172-31-69-228.ec2.internal/172.31.69.228:8032\n",
      "21/04/24 15:07:55 INFO client.AHSProxy: Connecting to Application History server at ip-172-31-69-228.ec2.internal/172.31.69.228:10200\n",
      "21/04/24 15:07:55 INFO mapreduce.JobSubmitter: number of splits:4\n",
      "21/04/24 15:07:56 INFO mapreduce.JobSubmitter: Submitting tokens for job: job_1619273996740_0006\n",
      "21/04/24 15:07:56 INFO conf.Configuration: resource-types.xml not found\n",
      "21/04/24 15:07:56 INFO resource.ResourceUtils: Unable to find 'resource-types.xml'.\n",
      "21/04/24 15:07:56 INFO resource.ResourceUtils: Adding resource type - name = memory-mb, units = Mi, type = COUNTABLE\n",
      "21/04/24 15:07:56 INFO resource.ResourceUtils: Adding resource type - name = vcores, units = , type = COUNTABLE\n",
      "21/04/24 15:07:56 INFO impl.YarnClientImpl: Submitted application application_1619273996740_0006\n",
      "21/04/24 15:07:56 INFO mapreduce.Job: The url to track the job: http://ip-172-31-69-228.ec2.internal:20888/proxy/application_1619273996740_0006/\n",
      "21/04/24 15:07:56 INFO tools.DistCp: DistCp job-id: job_1619273996740_0006\n",
      "21/04/24 15:07:56 INFO mapreduce.Job: Running job: job_1619273996740_0006\n",
      "21/04/24 15:08:04 INFO mapreduce.Job: Job job_1619273996740_0006 running in uber mode : false\n",
      "21/04/24 15:08:04 INFO mapreduce.Job:  map 0% reduce 0%\n",
      "21/04/24 15:08:29 INFO mapreduce.Job:  map 75% reduce 0%\n",
      "21/04/24 15:08:41 INFO mapreduce.Job:  map 100% reduce 0%\n",
      "21/04/24 15:08:41 INFO mapreduce.Job: Job job_1619273996740_0006 completed successfully\n",
      "21/04/24 15:08:41 INFO mapreduce.Job: Counters: 39\n",
      "\tFile System Counters\n",
      "\t\tFILE: Number of bytes read=0\n",
      "\t\tFILE: Number of bytes written=891432\n",
      "\t\tFILE: Number of read operations=0\n",
      "\t\tFILE: Number of large read operations=0\n",
      "\t\tFILE: Number of write operations=0\n",
      "\t\tHDFS: Number of bytes read=2647\n",
      "\t\tHDFS: Number of bytes written=3689970\n",
      "\t\tHDFS: Number of read operations=41\n",
      "\t\tHDFS: Number of large read operations=0\n",
      "\t\tHDFS: Number of write operations=19\n",
      "\t\tS3: Number of bytes read=3689970\n",
      "\t\tS3: Number of bytes written=0\n",
      "\t\tS3: Number of read operations=0\n",
      "\t\tS3: Number of large read operations=0\n",
      "\t\tS3: Number of write operations=0\n",
      "\tJob Counters \n",
      "\t\tLaunched map tasks=4\n",
      "\t\tOther local map tasks=4\n",
      "\t\tTotal time spent by all maps in occupied slots (ms)=2661664\n",
      "\t\tTotal time spent by all reduces in occupied slots (ms)=0\n",
      "\t\tTotal time spent by all map tasks (ms)=83177\n",
      "\t\tTotal vcore-milliseconds taken by all map tasks=83177\n",
      "\t\tTotal megabyte-milliseconds taken by all map tasks=85173248\n",
      "\tMap-Reduce Framework\n",
      "\t\tMap input records=4\n",
      "\t\tMap output records=0\n",
      "\t\tInput split bytes=548\n",
      "\t\tSpilled Records=0\n",
      "\t\tFailed Shuffles=0\n",
      "\t\tMerged Map outputs=0\n",
      "\t\tGC time elapsed (ms)=2000\n",
      "\t\tCPU time spent (ms)=26870\n",
      "\t\tPhysical memory (bytes) snapshot=1680900096\n",
      "\t\tVirtual memory (bytes) snapshot=13246222336\n",
      "\t\tTotal committed heap usage (bytes)=1518862336\n",
      "\tFile Input Format Counters \n",
      "\t\tBytes Read=2099\n",
      "\tFile Output Format Counters \n",
      "\t\tBytes Written=0\n",
      "\tDistCp Counters\n",
      "\t\tBytes Copied=3689970\n",
      "\t\tBytes Expected=3689970\n",
      "\t\tFiles Copied=3\n",
      "\t\tDIR_COPY=1\n"
     ]
    }
   ],
   "source": [
    "!hadoop distcp s3://afeka-big-data-course/Data/Gutenberg ."
   ]
  },
  {
   "cell_type": "code",
   "execution_count": null,
   "metadata": {},
   "outputs": [],
   "source": [
    "!hadoop distcp s3://afeka-big-data-course/Data/\"Encyclopaedia Britannica\" ."
   ]
  },
  {
   "cell_type": "code",
   "execution_count": null,
   "metadata": {},
   "outputs": [],
   "source": [
    "!hadoop distcp s3://afeka-big-data-course/Data/Wikipedia ."
   ]
  },
  {
   "cell_type": "code",
   "execution_count": 8,
   "metadata": {
    "collapsed": true,
    "jupyter": {
     "outputs_hidden": true
    },
    "tags": []
   },
   "outputs": [
    {
     "name": "stdout",
     "output_type": "stream",
     "text": [
      "Found 2 items\n",
      "drwxr-xr-x   - hadoop hdfsadmingroup          0 2021-04-24 14:55 Data\n",
      "drwxr-xr-x   - hadoop hdfsadmingroup          0 2021-04-24 15:08 Gutenberg\n"
     ]
    }
   ],
   "source": [
    "!hadoop fs -ls ."
   ]
  },
  {
   "cell_type": "code",
   "execution_count": 9,
   "metadata": {},
   "outputs": [
    {
     "name": "stdout",
     "output_type": "stream",
     "text": [
      "/home/hadoop\n"
     ]
    }
   ],
   "source": [
    "cd ~"
   ]
  },
  {
   "cell_type": "code",
   "execution_count": 10,
   "metadata": {},
   "outputs": [],
   "source": [
    "!chmod ugo+x *.py"
   ]
  },
  {
   "cell_type": "code",
   "execution_count": 13,
   "metadata": {
    "collapsed": true,
    "jupyter": {
     "outputs_hidden": true
    },
    "tags": []
   },
   "outputs": [
    {
     "name": "stdout",
     "output_type": "stream",
     "text": [
      "bar 1\n",
      "foo 3\n",
      "labs 1\n",
      "quux 2\n"
     ]
    }
   ],
   "source": [
    "!echo 'foo foo quux labs foo bar quux' | python3 ./mapper.py | sort -k1,1 | python3 ./reducer.py"
   ]
  },
  {
   "cell_type": "code",
   "execution_count": 14,
   "metadata": {},
   "outputs": [
    {
     "name": "stdout",
     "output_type": "stream",
     "text": [
      "/home/hadoop\n"
     ]
    }
   ],
   "source": [
    "cd /home/hadoop"
   ]
  },
  {
   "cell_type": "code",
   "execution_count": 15,
   "metadata": {
    "collapsed": true,
    "jupyter": {
     "outputs_hidden": true
    },
    "tags": []
   },
   "outputs": [
    {
     "name": "stdout",
     "output_type": "stream",
     "text": [
      "Found 2 items\n",
      "drwxr-xr-x   - hadoop hdfsadmingroup          0 2021-04-24 14:55 Data\n",
      "drwxr-xr-x   - hadoop hdfsadmingroup          0 2021-04-24 15:08 Gutenberg\n"
     ]
    }
   ],
   "source": [
    "!hadoop fs -ls"
   ]
  }
 ],
 "metadata": {
  "kernelspec": {
   "display_name": "Python 3",
   "language": "python",
   "name": "python3"
  },
  "language_info": {
   "codemirror_mode": {
    "name": "ipython",
    "version": 3
   },
   "file_extension": ".py",
   "mimetype": "text/x-python",
   "name": "python",
   "nbconvert_exporter": "python",
   "pygments_lexer": "ipython3",
   "version": "3.8.9"
  }
 },
 "nbformat": 4,
 "nbformat_minor": 5
}
