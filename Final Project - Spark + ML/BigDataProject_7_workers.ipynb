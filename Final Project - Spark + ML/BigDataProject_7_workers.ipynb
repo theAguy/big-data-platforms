{
 "cells": [
  {
   "cell_type": "markdown",
   "id": "99ff5b3c",
   "metadata": {},
   "source": [
    "*Big Data Final Project *"
   ]
  },
  {
   "cell_type": "markdown",
   "id": "63905cda",
   "metadata": {},
   "source": [
    "Stav Vaknin -313581654\n",
    "\n",
    "Guy Assa - 204118616"
   ]
  },
  {
   "cell_type": "code",
   "execution_count": 1,
   "id": "b378843b",
   "metadata": {},
   "outputs": [
    {
     "data": {
      "application/vnd.jupyter.widget-view+json": {
       "model_id": "ad4f5936d7024192ae12ae14babd27ba",
       "version_major": 2,
       "version_minor": 0
      },
      "text/plain": [
       "VBox()"
      ]
     },
     "metadata": {},
     "output_type": "display_data"
    },
    {
     "name": "stdout",
     "output_type": "stream",
     "text": [
      "Starting Spark application\n"
     ]
    },
    {
     "data": {
      "text/html": [
       "<table>\n",
       "<tr><th>ID</th><th>YARN Application ID</th><th>Kind</th><th>State</th><th>Spark UI</th><th>Driver log</th><th>Current session?</th></tr><tr><td>2</td><td>application_1629388517974_0003</td><td>pyspark</td><td>idle</td><td><a target=\"_blank\" href=\"http://ip-172-31-30-104.ec2.internal:20888/proxy/application_1629388517974_0003/\" class=\"emr-proxy-link\" emr-resource=\"j-25RV5AZYGYQP8\n",
       "\" application-id=\"application_1629388517974_0003\">Link</a></td><td><a target=\"_blank\" href=\"http://ip-172-31-18-158.ec2.internal:8042/node/containerlogs/container_1629388517974_0003_01_000001/livy\" >Link</a></td><td>✔</td></tr></table>"
      ],
      "text/plain": [
       "<IPython.core.display.HTML object>"
      ]
     },
     "metadata": {},
     "output_type": "display_data"
    },
    {
     "data": {
      "application/vnd.jupyter.widget-view+json": {
       "model_id": "",
       "version_major": 2,
       "version_minor": 0
      },
      "text/plain": [
       "FloatProgress(value=0.0, bar_style='info', description='Progress:', layout=Layout(height='25px', width='50%'),…"
      ]
     },
     "metadata": {},
     "output_type": "display_data"
    },
    {
     "name": "stdout",
     "output_type": "stream",
     "text": [
      "SparkSession available as 'spark'.\n"
     ]
    },
    {
     "data": {
      "application/vnd.jupyter.widget-view+json": {
       "model_id": "",
       "version_major": 2,
       "version_minor": 0
      },
      "text/plain": [
       "FloatProgress(value=0.0, bar_style='info', description='Progress:', layout=Layout(height='25px', width='50%'),…"
      ]
     },
     "metadata": {},
     "output_type": "display_data"
    }
   ],
   "source": [
    "RUNNING_ENV = 'CLOUD'\n",
    "#RUNNING_ENV = 'LOCAL'"
   ]
  },
  {
   "cell_type": "code",
   "execution_count": 2,
   "id": "f5b7a3a8",
   "metadata": {},
   "outputs": [
    {
     "data": {
      "application/vnd.jupyter.widget-view+json": {
       "model_id": "d0eb815fa4e74e478751a317152cea32",
       "version_major": 2,
       "version_minor": 0
      },
      "text/plain": [
       "VBox()"
      ]
     },
     "metadata": {},
     "output_type": "display_data"
    },
    {
     "data": {
      "application/vnd.jupyter.widget-view+json": {
       "model_id": "",
       "version_major": 2,
       "version_minor": 0
      },
      "text/plain": [
       "FloatProgress(value=0.0, bar_style='info', description='Progress:', layout=Layout(height='25px', width='50%'),…"
      ]
     },
     "metadata": {},
     "output_type": "display_data"
    },
    {
     "name": "stdout",
     "output_type": "stream",
     "text": [
      "Collecting Cython\n",
      "  Using cached https://files.pythonhosted.org/packages/3d/48/bbca549da0b0f636c0f161e84d30172c40aafe99552680f297da7fedf102/Cython-0.29.24-cp37-cp37m-manylinux1_x86_64.whl\n",
      "Installing collected packages: Cython\n",
      "Successfully installed Cython-0.29.24\n",
      "\n",
      "Collecting pandas==0.25.1\n",
      "  Using cached https://files.pythonhosted.org/packages/7e/ab/ea76361f9d3e732e114adcd801d2820d5319c23d0ac5482fa3b412db217e/pandas-0.25.1-cp37-cp37m-manylinux1_x86_64.whl\n",
      "Requirement already satisfied: pytz>=2017.2 in /usr/local/lib/python3.7/site-packages (from pandas==0.25.1)\n",
      "Requirement already satisfied: numpy>=1.13.3 in /usr/local/lib64/python3.7/site-packages (from pandas==0.25.1)\n",
      "Collecting python-dateutil>=2.6.1 (from pandas==0.25.1)\n",
      "  Using cached https://files.pythonhosted.org/packages/36/7a/87837f39d0296e723bb9b62bbb257d0355c7f6128853c78955f57342a56d/python_dateutil-2.8.2-py2.py3-none-any.whl\n",
      "Requirement already satisfied: six>=1.5 in /usr/local/lib/python3.7/site-packages (from python-dateutil>=2.6.1->pandas==0.25.1)\n",
      "Installing collected packages: python-dateutil, pandas\n",
      "Successfully installed pandas-0.25.1 python-dateutil-2.8.2\n",
      "\n",
      "Collecting kaggle\n",
      "Requirement already satisfied: six>=1.10 in /usr/local/lib/python3.7/site-packages (from kaggle)\n",
      "Requirement already satisfied: python-dateutil in /mnt/tmp/1629401522925-0/lib/python3.7/site-packages (from kaggle)\n",
      "Collecting certifi (from kaggle)\n",
      "  Using cached https://files.pythonhosted.org/packages/05/1b/0a0dece0e8aa492a6ec9e4ad2fe366b511558cdc73fd3abc82ba7348e875/certifi-2021.5.30-py2.py3-none-any.whl\n",
      "Collecting requests (from kaggle)\n",
      "  Using cached https://files.pythonhosted.org/packages/92/96/144f70b972a9c0eabbd4391ef93ccd49d0f2747f4f6a2a2738e99e5adc65/requests-2.26.0-py2.py3-none-any.whl\n",
      "Requirement already satisfied: tqdm in /usr/local/lib64/python3.7/site-packages (from kaggle)\n",
      "Collecting python-slugify (from kaggle)\n",
      "  Using cached https://files.pythonhosted.org/packages/7e/e2/0c8be1e3b237d11f10963c7cef82e4d98d70ca6e176f3922dddf7bfc7026/python_slugify-5.0.2-py2.py3-none-any.whl\n",
      "Collecting urllib3 (from kaggle)\n",
      "  Using cached https://files.pythonhosted.org/packages/5f/64/43575537846896abac0b15c3e5ac678d787a4021e906703f1766bfb8ea11/urllib3-1.26.6-py2.py3-none-any.whl\n",
      "Collecting idna<4,>=2.5; python_version >= \"3\" (from requests->kaggle)\n",
      "  Using cached https://files.pythonhosted.org/packages/d7/77/ff688d1504cdc4db2a938e2b7b9adee5dd52e34efbd2431051efc9984de9/idna-3.2-py3-none-any.whl\n",
      "Collecting charset-normalizer~=2.0.0; python_version >= \"3\" (from requests->kaggle)\n",
      "  Using cached https://files.pythonhosted.org/packages/33/53/b7f6126a2b9fd878b025fe3c40266cfaad696f312165008ce045bffa3fe7/charset_normalizer-2.0.4-py3-none-any.whl\n",
      "Collecting text-unidecode>=1.3 (from python-slugify->kaggle)\n",
      "  Using cached https://files.pythonhosted.org/packages/a6/a5/c0b6468d3824fe3fde30dbb5e1f687b291608f9473681bbf7dabbf5a87d7/text_unidecode-1.3-py2.py3-none-any.whl\n",
      "Installing collected packages: certifi, idna, urllib3, charset-normalizer, requests, text-unidecode, python-slugify, kaggle\n",
      "Successfully installed certifi-2021.5.30 charset-normalizer-2.0.4 idna-3.2 kaggle-1.5.12 python-slugify-5.0.2 requests-2.26.0 text-unidecode-1.3 urllib3-1.26.6\n",
      "\n",
      "Collecting matplotlib\n",
      "  Using cached https://files.pythonhosted.org/packages/7c/ec/3d77b10ac3d30590f5431fd2dc59c58d20c020af107b47f8974896afc5c9/matplotlib-3.4.3-cp37-cp37m-manylinux1_x86_64.whl\n",
      "Requirement already satisfied: numpy>=1.16 in /usr/local/lib64/python3.7/site-packages (from matplotlib)\n",
      "Collecting pyparsing>=2.2.1 (from matplotlib)\n",
      "  Using cached https://files.pythonhosted.org/packages/8a/bb/488841f56197b13700afd5658fc279a2025a39e22449b7cf29864669b15d/pyparsing-2.4.7-py2.py3-none-any.whl\n",
      "Requirement already satisfied: python-dateutil>=2.7 in /mnt/tmp/1629401522925-0/lib/python3.7/site-packages (from matplotlib)\n",
      "Collecting pillow>=6.2.0 (from matplotlib)\n",
      "  Using cached https://files.pythonhosted.org/packages/8e/7a/b047f6f80fdb02c0cca1d3761d71e9800bcf6d4874b71c9e6548ec59e156/Pillow-8.3.1-cp37-cp37m-manylinux_2_5_x86_64.manylinux1_x86_64.whl\n",
      "Collecting cycler>=0.10 (from matplotlib)\n",
      "  Using cached https://files.pythonhosted.org/packages/f7/d2/e07d3ebb2bd7af696440ce7e754c59dd546ffe1bbe732c8ab68b9c834e61/cycler-0.10.0-py2.py3-none-any.whl\n",
      "Collecting kiwisolver>=1.0.1 (from matplotlib)\n",
      "  Using cached https://files.pythonhosted.org/packages/d2/46/231de802ade4225b76b96cffe419cf3ce52bbe92e3b092cf12db7d11c207/kiwisolver-1.3.1-cp37-cp37m-manylinux1_x86_64.whl\n",
      "Requirement already satisfied: six>=1.5 in /usr/local/lib/python3.7/site-packages (from python-dateutil>=2.7->matplotlib)\n",
      "Installing collected packages: pyparsing, pillow, cycler, kiwisolver, matplotlib\n",
      "Successfully installed cycler-0.10.0 kiwisolver-1.3.1 matplotlib-3.4.3 pillow-8.3.1 pyparsing-2.4.7\n",
      "\n",
      "Collecting scikit-learn\n",
      "  Using cached https://files.pythonhosted.org/packages/6f/6b/10881b09340d69d4a941e5624bfbf1ba853be8cdf2141077e66dda0b088e/scikit_learn-0.24.2-cp37-cp37m-manylinux1_x86_64.whl\n",
      "Collecting scipy>=0.19.1 (from scikit-learn)\n",
      "  Using cached https://files.pythonhosted.org/packages/b5/6b/8bc0b61ebf824f8c3979a31368bbe38dd247590049a994ab0ed077cb56dc/scipy-1.7.1-cp37-cp37m-manylinux_2_5_x86_64.manylinux1_x86_64.whl\n",
      "Requirement already satisfied: numpy>=1.13.3 in /usr/local/lib64/python3.7/site-packages (from scikit-learn)\n",
      "Requirement already satisfied: joblib>=0.11 in /usr/local/lib64/python3.7/site-packages (from scikit-learn)\n",
      "Collecting threadpoolctl>=2.0.0 (from scikit-learn)\n",
      "  Using cached https://files.pythonhosted.org/packages/c6/e8/c216b9b60cbba4642d3ca1bae7a53daa0c24426f662e0e3ce3dc7f6caeaa/threadpoolctl-2.2.0-py3-none-any.whl\n",
      "Installing collected packages: scipy, threadpoolctl, scikit-learn\n",
      "Successfully installed scikit-learn-0.24.2 scipy-1.7.1 threadpoolctl-2.2.0\n",
      "\n",
      "Collecting plotly\n",
      "  Using cached https://files.pythonhosted.org/packages/56/0f/b89786ebda81c7994e11066024ffa4b6c4d97edc1dca02ede22578a77b66/plotly-5.2.1-py2.py3-none-any.whl\n",
      "Requirement already satisfied: six in /usr/local/lib/python3.7/site-packages (from plotly)\n",
      "Collecting tenacity>=6.2.0 (from plotly)\n",
      "  Using cached https://files.pythonhosted.org/packages/f2/a5/f86bc8d67c979020438c8559cc70cfe3a1643fd160d35e09c9cca6a09189/tenacity-8.0.1-py3-none-any.whl\n",
      "Installing collected packages: tenacity, plotly\n",
      "Successfully installed plotly-5.2.1 tenacity-8.0.1"
     ]
    }
   ],
   "source": [
    "if RUNNING_ENV is 'CLOUD':\n",
    "    sc.install_pypi_package(\"Cython\")\n",
    "    sc.install_pypi_package(\"pandas==0.25.1\")\n",
    "    sc.install_pypi_package(\"kaggle\")\n",
    "    sc.install_pypi_package(\"matplotlib\")\n",
    "    sc.install_pypi_package(\"scikit-learn\")\n",
    "    sc.install_pypi_package(\"plotly\")\n",
    "else:\n",
    "    pass\n",
    "    #!pip install pyspark"
   ]
  },
  {
   "cell_type": "code",
   "execution_count": 3,
   "id": "0bd0e2bd",
   "metadata": {},
   "outputs": [
    {
     "data": {
      "application/vnd.jupyter.widget-view+json": {
       "model_id": "6e65162795f9411585c99287b261809b",
       "version_major": 2,
       "version_minor": 0
      },
      "text/plain": [
       "VBox()"
      ]
     },
     "metadata": {},
     "output_type": "display_data"
    },
    {
     "data": {
      "application/vnd.jupyter.widget-view+json": {
       "model_id": "",
       "version_major": 2,
       "version_minor": 0
      },
      "text/plain": [
       "FloatProgress(value=0.0, bar_style='info', description='Progress:', layout=Layout(height='25px', width='50%'),…"
      ]
     },
     "metadata": {},
     "output_type": "display_data"
    }
   ],
   "source": [
    "from pyspark.sql import SparkSession, SQLContext,DataFrame\n",
    "from pyspark import SparkConf, SparkContext\n",
    "from pyspark.sql.functions import when,lit,isnan,udf, count, col,isnull,array,abs,sqrt,pow,hour,month,dayofweek, to_date, avg\n",
    "import pyspark.sql.functions as func\n",
    "import time\n",
    "from pyspark.sql.types import FloatType, IntegerType\n",
    "import plotly.graph_objects as go\n",
    "import plotly\n",
    "import matplotlib.pyplot as plt\n",
    "import copy \n",
    "import math\n",
    "import numpy as np\n",
    "from sklearn.metrics import classification_report\n",
    "from pyspark.ml.classification import LogisticRegression\n",
    "from pyspark.ml import Pipeline\n",
    "from pyspark.ml.feature import StandardScaler, VectorAssembler"
   ]
  },
  {
   "cell_type": "code",
   "execution_count": 4,
   "id": "13a950dc",
   "metadata": {},
   "outputs": [
    {
     "data": {
      "application/vnd.jupyter.widget-view+json": {
       "model_id": "cebe7e4a6fa04be7a0947a5b93af65fb",
       "version_major": 2,
       "version_minor": 0
      },
      "text/plain": [
       "VBox()"
      ]
     },
     "metadata": {},
     "output_type": "display_data"
    },
    {
     "data": {
      "application/vnd.jupyter.widget-view+json": {
       "model_id": "",
       "version_major": 2,
       "version_minor": 0
      },
      "text/plain": [
       "FloatProgress(value=0.0, bar_style='info', description='Progress:', layout=Layout(height='25px', width='50%'),…"
      ]
     },
     "metadata": {},
     "output_type": "display_data"
    }
   ],
   "source": [
    "import os\n",
    "os.environ[\"KAGGLE_USERNAME\"]=\"guyassa\"\n",
    "os.environ[\"KAGGLE_KEY\"]=\"01f262ffbee65b00b91ca894e7a3f964\"\n",
    "os.chdir('/tmp')\n",
    "from kaggle.api.kaggle_api_extended import KaggleApi\n",
    "api = KaggleApi()\n",
    "api.authenticate()\n",
    "api.competition_download_files('idc-big-data-platforms-2021-ml-competition')\n",
    "import zipfile\n",
    "with zipfile.ZipFile('./idc-big-data-platforms-2021-ml-competition.zip', 'r') as zip_ref:\n",
    "    zip_ref.extractall('.')"
   ]
  },
  {
   "cell_type": "code",
   "execution_count": 5,
   "id": "85462041",
   "metadata": {},
   "outputs": [
    {
     "data": {
      "application/vnd.jupyter.widget-view+json": {
       "model_id": "81d90c796c4648ad98a404ec16b283e1",
       "version_major": 2,
       "version_minor": 0
      },
      "text/plain": [
       "VBox()"
      ]
     },
     "metadata": {},
     "output_type": "display_data"
    },
    {
     "data": {
      "application/vnd.jupyter.widget-view+json": {
       "model_id": "",
       "version_major": 2,
       "version_minor": 0
      },
      "text/plain": [
       "FloatProgress(value=0.0, bar_style='info', description='Progress:', layout=Layout(height='25px', width='50%'),…"
      ]
     },
     "metadata": {},
     "output_type": "display_data"
    }
   ],
   "source": [
    "def getFileSystem(sc):\n",
    "    # Prepare a FileSystem manager\n",
    "    FileSystem = sc._jvm.org.apache.hadoop.fs.FileSystem\n",
    "    fs = FileSystem.get(sc._jsc.hadoopConfiguration())\n",
    "    return fs\n",
    "\n",
    "def copy_from_local_file(sc, logger, local_file, hdfs_file, delSrc=False, overwrite=True):\n",
    "    # copyFromLocalFile(boolean delSrc, boolean overwrite, Path src, Path dst)\n",
    "    Path = sc._jvm.org.apache.hadoop.fs.Path\n",
    "    try:\n",
    "        getFileSystem(sc).copyFromLocalFile(delSrc, overwrite, Path(local_file), Path(hdfs_file))\n",
    "        logger.info(\"copyFromLocal {} to {} success\".format(local_file, hdfs_file))\n",
    "    except Exception as e:\n",
    "        logger.error(e)\n",
    "        logger.info(\"copyFromLocal {} to {} error\".format(local_file, hdfs_file))\n",
    "import logging\n",
    "import sys\n",
    "logger = logging.getLogger('')\n",
    "fs = getFileSystem(sc)\n",
    "copy_from_local_file(sc, logger, '/tmp/idc_train.csv', '/user/livy/idc_train.csv')\n",
    "copy_from_local_file(sc, logger, '/tmp/idc_test.csv', '/user/livy/idc_test.csv')"
   ]
  },
  {
   "cell_type": "code",
   "execution_count": 6,
   "id": "73cc30fc",
   "metadata": {},
   "outputs": [
    {
     "data": {
      "application/vnd.jupyter.widget-view+json": {
       "model_id": "69b64fe5610047bca4f9e992dfe32eaa",
       "version_major": 2,
       "version_minor": 0
      },
      "text/plain": [
       "VBox()"
      ]
     },
     "metadata": {},
     "output_type": "display_data"
    },
    {
     "data": {
      "application/vnd.jupyter.widget-view+json": {
       "model_id": "",
       "version_major": 2,
       "version_minor": 0
      },
      "text/plain": [
       "FloatProgress(value=0.0, bar_style='info', description='Progress:', layout=Layout(height='25px', width='50%'),…"
      ]
     },
     "metadata": {},
     "output_type": "display_data"
    },
    {
     "name": "stdout",
     "output_type": "stream",
     "text": [
      "root\n",
      " |-- key: integer (nullable = true)\n",
      " |-- fare_amount: double (nullable = true)\n",
      " |-- pickup_datetime: string (nullable = true)\n",
      " |-- pickup_longitude: double (nullable = true)\n",
      " |-- pickup_latitude: double (nullable = true)\n",
      " |-- dropoff_longitude: double (nullable = true)\n",
      " |-- dropoff_latitude: double (nullable = true)\n",
      " |-- passenger_count: integer (nullable = true)\n",
      "\n",
      "19990000"
     ]
    }
   ],
   "source": [
    "# load train data\n",
    "train = spark.read.format(\"csv\") \\\n",
    "      .option(\"header\", True) \\\n",
    "      .option(\"inferSchema\", True) \\\n",
    "      .load(\"idc_train.csv\")\n",
    "train.cache() \n",
    "train.printSchema()\n",
    "train.count()"
   ]
  },
  {
   "cell_type": "markdown",
   "id": "897b0f10",
   "metadata": {},
   "source": [
    "# Settings"
   ]
  },
  {
   "cell_type": "code",
   "execution_count": 7,
   "id": "687e5039",
   "metadata": {},
   "outputs": [
    {
     "data": {
      "application/vnd.jupyter.widget-view+json": {
       "model_id": "41683c0392434f5e8fafa1fd4f4bc7b4",
       "version_major": 2,
       "version_minor": 0
      },
      "text/plain": [
       "VBox()"
      ]
     },
     "metadata": {},
     "output_type": "display_data"
    },
    {
     "data": {
      "application/vnd.jupyter.widget-view+json": {
       "model_id": "",
       "version_major": 2,
       "version_minor": 0
      },
      "text/plain": [
       "FloatProgress(value=0.0, bar_style='info', description='Progress:', layout=Layout(height='25px', width='50%'),…"
      ]
     },
     "metadata": {},
     "output_type": "display_data"
    },
    {
     "name": "stdout",
     "output_type": "stream",
     "text": [
      "Run time:  0.2212233543395996 seconds"
     ]
    }
   ],
   "source": [
    "t = time.time()\n",
    "train = spark.read.csv(\"idc_train.csv\",header=True,)\n",
    "print('Run time: ', time.time() - t , 'seconds')"
   ]
  },
  {
   "cell_type": "code",
   "execution_count": 8,
   "id": "f43010db",
   "metadata": {},
   "outputs": [
    {
     "data": {
      "application/vnd.jupyter.widget-view+json": {
       "model_id": "5d35ec02315d4050bba32c9a010feecf",
       "version_major": 2,
       "version_minor": 0
      },
      "text/plain": [
       "VBox()"
      ]
     },
     "metadata": {},
     "output_type": "display_data"
    },
    {
     "data": {
      "application/vnd.jupyter.widget-view+json": {
       "model_id": "",
       "version_major": 2,
       "version_minor": 0
      },
      "text/plain": [
       "FloatProgress(value=0.0, bar_style='info', description='Progress:', layout=Layout(height='25px', width='50%'),…"
      ]
     },
     "metadata": {},
     "output_type": "display_data"
    },
    {
     "name": "stdout",
     "output_type": "stream",
     "text": [
      "Run time:  0.07002043724060059 seconds"
     ]
    }
   ],
   "source": [
    "# adding \"high_fare\" column\n",
    "t = time.time()\n",
    "\n",
    "train = train.withColumn(\"high_fare\",when((train.fare_amount>=10),1).otherwise(0))\n",
    "\n",
    "print('Run time: ', time.time() - t , 'seconds')"
   ]
  },
  {
   "cell_type": "code",
   "execution_count": 9,
   "id": "2b5d3ec7",
   "metadata": {},
   "outputs": [
    {
     "data": {
      "application/vnd.jupyter.widget-view+json": {
       "model_id": "0cf41ec8d43149edbf354e50bad56236",
       "version_major": 2,
       "version_minor": 0
      },
      "text/plain": [
       "VBox()"
      ]
     },
     "metadata": {},
     "output_type": "display_data"
    },
    {
     "data": {
      "application/vnd.jupyter.widget-view+json": {
       "model_id": "",
       "version_major": 2,
       "version_minor": 0
      },
      "text/plain": [
       "FloatProgress(value=0.0, bar_style='info', description='Progress:', layout=Layout(height='25px', width='50%'),…"
      ]
     },
     "metadata": {},
     "output_type": "display_data"
    },
    {
     "name": "stdout",
     "output_type": "stream",
     "text": [
      "+---------+--------+\n",
      "|high_fare|   count|\n",
      "+---------+--------+\n",
      "|        1| 7789236|\n",
      "|        0|12200764|\n",
      "+---------+--------+\n",
      "\n",
      "Run time:  3.362328290939331 seconds"
     ]
    }
   ],
   "source": [
    "# sanity check\n",
    "t = time.time()\n",
    "train.groupby('high_fare').count().show()\n",
    "print('Run time: ', time.time() - t , 'seconds')"
   ]
  },
  {
   "cell_type": "code",
   "execution_count": 10,
   "id": "1163094f",
   "metadata": {},
   "outputs": [
    {
     "data": {
      "application/vnd.jupyter.widget-view+json": {
       "model_id": "54bcd4d9c95b466b99b9426e73d226b1",
       "version_major": 2,
       "version_minor": 0
      },
      "text/plain": [
       "VBox()"
      ]
     },
     "metadata": {},
     "output_type": "display_data"
    },
    {
     "data": {
      "application/vnd.jupyter.widget-view+json": {
       "model_id": "",
       "version_major": 2,
       "version_minor": 0
      },
      "text/plain": [
       "FloatProgress(value=0.0, bar_style='info', description='Progress:', layout=Layout(height='25px', width='50%'),…"
      ]
     },
     "metadata": {},
     "output_type": "display_data"
    },
    {
     "name": "stdout",
     "output_type": "stream",
     "text": [
      "Run time:  3.332919120788574 seconds"
     ]
    }
   ],
   "source": [
    "# passenger - from string to integer\n",
    "# Statistics\n",
    "t = time.time()\n",
    "\n",
    "train = train.withColumn(\"fare_amount\", train[\"fare_amount\"].cast(IntegerType()))\n",
    "train = train.withColumn(\"passenger_count\", train[\"passenger_count\"].cast(IntegerType()))\n",
    "train = train.withColumn('pickup_longitude', train['pickup_longitude'].cast('float'))\n",
    "train = train.withColumn('pickup_latitude', train['pickup_latitude'].cast('float'))\n",
    "train = train.withColumn('dropoff_longitude', train['dropoff_longitude'].cast('float'))\n",
    "train = train.withColumn('dropoff_latitude', train['dropoff_latitude'].cast('float'))\n",
    "\n",
    "numeric_features = [t[0] for t in train.dtypes if t[1] == 'int']\n",
    "train.select(numeric_features).describe().toPandas().transpose()\n",
    "\n",
    "print('Run time: ', time.time() - t , 'seconds')"
   ]
  },
  {
   "cell_type": "code",
   "execution_count": 11,
   "id": "ac954458",
   "metadata": {},
   "outputs": [
    {
     "data": {
      "application/vnd.jupyter.widget-view+json": {
       "model_id": "950516f844e842a99f84cae7cf2ea3e9",
       "version_major": 2,
       "version_minor": 0
      },
      "text/plain": [
       "VBox()"
      ]
     },
     "metadata": {},
     "output_type": "display_data"
    },
    {
     "data": {
      "application/vnd.jupyter.widget-view+json": {
       "model_id": "",
       "version_major": 2,
       "version_minor": 0
      },
      "text/plain": [
       "FloatProgress(value=0.0, bar_style='info', description='Progress:', layout=Layout(height='25px', width='50%'),…"
      ]
     },
     "metadata": {},
     "output_type": "display_data"
    },
    {
     "name": "stdout",
     "output_type": "stream",
     "text": [
      "Run time:  0.1959683895111084 seconds"
     ]
    }
   ],
   "source": [
    "# Set unwanted values as Null (such as fare_amount=0 etc.)\n",
    "t = time.time()\n",
    "\n",
    "train = train.withColumn(\"fare_amount\",when(train.fare_amount==0,np.nan).otherwise(train.fare_amount))\n",
    "train = train.withColumn(\"fare_amount\",when(train.fare_amount>100,np.nan).otherwise(train.fare_amount))\n",
    "train = train.withColumn(\"fare_amount\",when(train.fare_amount<0,np.nan).otherwise(train.fare_amount))\n",
    "train = train.withColumn(\"pickup_datetime\",when(train.pickup_datetime==0,np.nan).otherwise(train.pickup_datetime))\n",
    "train = train.withColumn(\"pickup_longitude\",when(train.pickup_longitude==0,np.nan).otherwise(train.pickup_longitude))\n",
    "train = train.withColumn(\"pickup_latitude\",when(train.pickup_latitude==0,np.nan).otherwise(train.pickup_latitude))\n",
    "train = train.withColumn(\"dropoff_longitude\",when(train.dropoff_longitude==0,np.nan).otherwise(train.dropoff_longitude))\n",
    "train = train.withColumn(\"dropoff_latitude\",when(train.dropoff_latitude==0,np.nan).otherwise(train.dropoff_latitude))\n",
    "train = train.withColumn(\"passenger_count\",when(train.passenger_count==0,np.nan).otherwise(train.passenger_count))\n",
    "train = train.withColumn(\"passenger_count\",when(train.passenger_count>5,np.nan).otherwise(train.passenger_count))\n",
    "\n",
    "print('Run time: ', time.time() - t , 'seconds')"
   ]
  },
  {
   "cell_type": "code",
   "execution_count": 12,
   "id": "8c2710c6",
   "metadata": {},
   "outputs": [
    {
     "data": {
      "application/vnd.jupyter.widget-view+json": {
       "model_id": "36a9b747d67a4ea989f2088c5ac1b1e0",
       "version_major": 2,
       "version_minor": 0
      },
      "text/plain": [
       "VBox()"
      ]
     },
     "metadata": {},
     "output_type": "display_data"
    },
    {
     "data": {
      "application/vnd.jupyter.widget-view+json": {
       "model_id": "",
       "version_major": 2,
       "version_minor": 0
      },
      "text/plain": [
       "FloatProgress(value=0.0, bar_style='info', description='Progress:', layout=Layout(height='25px', width='50%'),…"
      ]
     },
     "metadata": {},
     "output_type": "display_data"
    },
    {
     "name": "stdout",
     "output_type": "stream",
     "text": [
      "+---------+--------+\n",
      "|high_fare|   count|\n",
      "+---------+--------+\n",
      "|        1| 7425626|\n",
      "|        0|11673191|\n",
      "+---------+--------+\n",
      "\n",
      "Run time:  6.9476072788238525 seconds"
     ]
    }
   ],
   "source": [
    "# Observe the change in samples and look if imbalance occur\n",
    "t = time.time()\n",
    "\n",
    "train = train.na.drop()\n",
    "train.groupby('high_fare').count().show()\n",
    "\n",
    "print('Run time: ', time.time() - t , 'seconds')"
   ]
  },
  {
   "cell_type": "markdown",
   "id": "62401da3",
   "metadata": {},
   "source": [
    "## Feature engineering"
   ]
  },
  {
   "cell_type": "code",
   "execution_count": 13,
   "id": "c64fc1db",
   "metadata": {},
   "outputs": [
    {
     "data": {
      "application/vnd.jupyter.widget-view+json": {
       "model_id": "a7654327c2fb4176a45593b3c45a5c1c",
       "version_major": 2,
       "version_minor": 0
      },
      "text/plain": [
       "VBox()"
      ]
     },
     "metadata": {},
     "output_type": "display_data"
    },
    {
     "data": {
      "application/vnd.jupyter.widget-view+json": {
       "model_id": "",
       "version_major": 2,
       "version_minor": 0
      },
      "text/plain": [
       "FloatProgress(value=0.0, bar_style='info', description='Progress:', layout=Layout(height='25px', width='50%'),…"
      ]
     },
     "metadata": {},
     "output_type": "display_data"
    }
   ],
   "source": [
    "# convert wgs84 coordinate (as given in data) to distance\n",
    "\n",
    "def distance(lat1, lon1, lat2, lon2):\n",
    "    \n",
    "    radius = 6371  # km\n",
    "\n",
    "    dlat = func.radians(lat2 - lat1)\n",
    "    dlon = func.radians(lon2 - lon1)\n",
    "    a = (func.sin(dlat / 2) * func.sin(dlat / 2) +\n",
    "         func.cos(func.radians(lat1)) * func.cos(func.radians(lat2)) *\n",
    "         func.sin(dlon / 2) * func.sin(dlon / 2))\n",
    "    c = 2 * func.atan2(func.sqrt(a), func.sqrt(1 - a))\n",
    "    d = radius * c\n",
    "\n",
    "    return d"
   ]
  },
  {
   "cell_type": "code",
   "execution_count": 14,
   "id": "7d40b0e4",
   "metadata": {},
   "outputs": [
    {
     "data": {
      "application/vnd.jupyter.widget-view+json": {
       "model_id": "56b7bd751b4a40d8a1799979e016cefa",
       "version_major": 2,
       "version_minor": 0
      },
      "text/plain": [
       "VBox()"
      ]
     },
     "metadata": {},
     "output_type": "display_data"
    },
    {
     "data": {
      "application/vnd.jupyter.widget-view+json": {
       "model_id": "",
       "version_major": 2,
       "version_minor": 0
      },
      "text/plain": [
       "FloatProgress(value=0.0, bar_style='info', description='Progress:', layout=Layout(height='25px', width='50%'),…"
      ]
     },
     "metadata": {},
     "output_type": "display_data"
    },
    {
     "name": "stdout",
     "output_type": "stream",
     "text": [
      "Run time:  0.13969659805297852 seconds"
     ]
    }
   ],
   "source": [
    "# adding relevanr columns\n",
    "t = time.time()\n",
    "\n",
    "# adding hour_of_day column \n",
    "train = train.withColumn(\"hour_of_day\", hour(col('pickup_datetime')))\n",
    "\n",
    "# adding day_of_week column\n",
    "train = train.withColumn(\"day_of_week\", when((train.fare_amount>0),lit(dayofweek(train.pickup_datetime))).otherwise(lit(0)))\n",
    "\n",
    "# adding month_of_year column \n",
    "train = train.withColumn(\"month_of_year\",when((train.fare_amount>0),lit(month(train.pickup_datetime))).otherwise(lit(0)))\n",
    "\n",
    "# add column of distance as calculated in the function\n",
    "train = train.withColumn(\"distance\", distance(col(\"pickup_latitude\"), col(\"pickup_longitude\"), col(\"dropoff_latitude\"), col(\"dropoff_longitude\")))\n",
    "\n",
    "print('Run time: ', time.time() - t , 'seconds')"
   ]
  },
  {
   "cell_type": "markdown",
   "id": "7bfdd79d",
   "metadata": {},
   "source": [
    "# Plotting"
   ]
  },
  {
   "cell_type": "code",
   "execution_count": 17,
   "id": "a35cef6c",
   "metadata": {},
   "outputs": [
    {
     "data": {
      "application/vnd.jupyter.widget-view+json": {
       "model_id": "290d075aed594bb3a0c1f8469ddaf153",
       "version_major": 2,
       "version_minor": 0
      },
      "text/plain": [
       "VBox()"
      ]
     },
     "metadata": {},
     "output_type": "display_data"
    },
    {
     "data": {
      "application/vnd.jupyter.widget-view+json": {
       "model_id": "",
       "version_major": 2,
       "version_minor": 0
      },
      "text/plain": [
       "FloatProgress(value=0.0, bar_style='info', description='Progress:', layout=Layout(height='25px', width='50%'),…"
      ]
     },
     "metadata": {},
     "output_type": "display_data"
    }
   ],
   "source": [
    "fraction = 10_000 / train.count()\n",
    "#Randomly sample fraction% of the data without replacement\n",
    "sample1 = train.sample(False, fraction, seed=0)"
   ]
  },
  {
   "cell_type": "code",
   "execution_count": 20,
   "id": "e78f2982",
   "metadata": {},
   "outputs": [
    {
     "data": {
      "application/vnd.jupyter.widget-view+json": {
       "model_id": "b92cf810a05e4acdbcf079dd4093e9da",
       "version_major": 2,
       "version_minor": 0
      },
      "text/plain": [
       "VBox()"
      ]
     },
     "metadata": {},
     "output_type": "display_data"
    },
    {
     "data": {
      "application/vnd.jupyter.widget-view+json": {
       "model_id": "",
       "version_major": 2,
       "version_minor": 0
      },
      "text/plain": [
       "FloatProgress(value=0.0, bar_style='info', description='Progress:', layout=Layout(height='25px', width='50%'),…"
      ]
     },
     "metadata": {},
     "output_type": "display_data"
    },
    {
     "name": "stdout",
     "output_type": "stream",
     "text": [
      "+-----+-----------+--------------------+------------------+------------------+------------------+------------------+---------------+---------+-----------+-----------+-------------+-------------------+\n",
      "|  key|fare_amount|     pickup_datetime|  pickup_longitude|   pickup_latitude| dropoff_longitude|  dropoff_latitude|passenger_count|high_fare|hour_of_day|day_of_week|month_of_year|           distance|\n",
      "+-----+-----------+--------------------+------------------+------------------+------------------+------------------+---------------+---------+-----------+-----------+-------------+-------------------+\n",
      "| 1779|       13.0|2013-06-01 21:30:...| -73.9852294921875|  40.7679557800293|-73.99337768554688| 40.73308181762695|            1.0|        1|         21|          7|            6|  3.938084052506227|\n",
      "| 4203|       34.0|2011-10-06 14:02:...|-73.99268341064453| 40.76862716674805|-73.87047576904297| 40.77334213256836|            1.0|        1|         14|          5|           10|  10.30454756553625|\n",
      "| 5294|        7.0|2009-08-08 09:48:...| -74.0035400390625| 40.73929214477539|-73.98439025878906|40.760047912597656|            1.0|        0|          9|          7|            8| 2.8158079827437734|\n",
      "| 6195|       16.0|2010-09-30 18:41:...|-73.96382141113281| 40.80806350708008|-74.00455474853516|40.746986389160156|            1.0|        1|         18|          5|            9|  7.608407586408529|\n",
      "| 8884|       16.0|2013-03-11 20:36:...|-73.98648834228516| 40.72230529785156|-73.98184967041016| 40.76853561401367|            1.0|        1|         20|          2|            3|  5.155408244338066|\n",
      "|17190|       12.0|2009-09-24 16:30:...|-74.00897979736328| 40.71940994262695|-73.97791290283203| 40.75141525268555|            1.0|        1|         16|          5|            9|  4.417795670948128|\n",
      "|18297|        6.0|2012-06-12 21:05:...|  -73.981689453125| 40.78134536743164|-73.99723815917969| 40.76350021362305|            5.0|        0|         21|          3|            6| 2.3773476067024824|\n",
      "|19504|        4.0|2011-08-24 19:06:...|-73.97854614257812| 40.78519821166992|-73.98352813720703|40.778255462646484|            2.0|        0|         19|          4|            8| 0.8785992377292883|\n",
      "|23671|        4.0|2015-01-03 03:45:...|-73.99778747558594|40.720741271972656|-73.99002075195312|  40.7168083190918|            1.0|        0|          3|          7|            1| 0.7872075151890525|\n",
      "|23966|        4.0|2014-06-21 00:36:...| -73.9565200805664| 40.76557159423828| -73.9565200805664| 40.76557159423828|            1.0|        0|          0|          7|            6|                0.0|\n",
      "|27682|        5.0|2009-09-08 11:33:...|-73.89490509033203|40.800697326660156|-73.89505767822266| 40.80375289916992|            4.0|        0|         11|          3|            9|0.34000682456404663|\n",
      "|33699|        4.0|2009-01-01 14:55:...|-73.96717071533203| 40.77009582519531|-73.96772003173828| 40.76279067993164|            1.0|        0|         14|          5|            1| 0.8136113601460713|\n",
      "|34410|        6.0|2012-04-11 06:46:...|-73.99036407470703|40.756248474121094| -73.9774398803711| 40.76156234741211|            1.0|        0|          6|          4|            4| 1.2385818590711348|\n",
      "|35301|        5.0|2009-08-23 06:43:...|-73.99097442626953| 40.75742721557617|-73.98593139648438| 40.77138900756836|            1.0|        0|          6|          1|            8| 1.6095285692086836|\n",
      "|35952|       10.0|2014-02-05 08:30:...|-73.98059844970703| 40.68562316894531|-73.99227142333984| 40.69440460205078|            5.0|        1|          8|          4|            2| 1.3863912647650116|\n",
      "|37725|        9.0|2014-01-02 12:50:...|-74.00260162353516| 40.74795913696289|-73.99796295166016| 40.72536087036133|            1.0|        0|         12|          5|            1| 2.5430245053832596|\n",
      "|38424|        7.0|2009-02-10 11:02:...| -73.9862060546875| 40.76250457763672|-73.98979187011719| 40.74057388305664|            1.0|        0|         11|          3|            2|  2.457217509362417|\n",
      "|42979|       10.0|2014-07-09 00:56:...|-73.98887634277344| 40.74483108520508|-73.99250793457031|  40.7197380065918|            2.0|        1|          0|          4|            7|  2.806951890680387|\n",
      "|43783|        5.0|2012-12-22 21:39:...|-73.98762512207031| 40.73841857910156|-73.99471282958984| 40.73243713378906|            1.0|        0|         21|          7|           12| 0.8938631543866393|\n",
      "|45603|       14.0|2013-05-20 09:37:...| -73.9760971069336|40.758872985839844|-73.99102020263672| 40.75044250488281|            3.0|        1|          9|          2|            5| 1.5680573710531214|\n",
      "+-----+-----------+--------------------+------------------+------------------+------------------+------------------+---------------+---------+-----------+-----------+-------------+-------------------+\n",
      "only showing top 20 rows"
     ]
    }
   ],
   "source": [
    "sample1.show()\n"
   ]
  },
  {
   "cell_type": "code",
   "execution_count": 26,
   "id": "264fa508",
   "metadata": {},
   "outputs": [
    {
     "data": {
      "application/vnd.jupyter.widget-view+json": {
       "model_id": "279afd40b8c4467e930a363de19b8607",
       "version_major": 2,
       "version_minor": 0
      },
      "text/plain": [
       "VBox()"
      ]
     },
     "metadata": {},
     "output_type": "display_data"
    },
    {
     "data": {
      "application/vnd.jupyter.widget-view+json": {
       "model_id": "",
       "version_major": 2,
       "version_minor": 0
      },
      "text/plain": [
       "FloatProgress(value=0.0, bar_style='info', description='Progress:', layout=Layout(height='25px', width='50%'),…"
      ]
     },
     "metadata": {},
     "output_type": "display_data"
    }
   ],
   "source": [
    "# 7.a- not normalized\n",
    "t = time.time()\n",
    "import plotly.express as px\n",
    "df = sample1.toPandas()\n",
    "fig = px.histogram(df, x=\"fare_amount\")\n",
    "fig.update_layout(title=\"Distribution of ride fairs\")\n",
    "fig.show()\n",
    "print('Run time: ', time.time() - t , 'seconds')"
   ]
  },
  {
   "cell_type": "code",
   "execution_count": 27,
   "id": "4522caaa",
   "metadata": {},
   "outputs": [
    {
     "data": {
      "application/vnd.jupyter.widget-view+json": {
       "model_id": "98ae5c5ffc6a47ff96869be2f23cb5a6",
       "version_major": 2,
       "version_minor": 0
      },
      "text/plain": [
       "VBox()"
      ]
     },
     "metadata": {},
     "output_type": "display_data"
    },
    {
     "data": {
      "application/vnd.jupyter.widget-view+json": {
       "model_id": "",
       "version_major": 2,
       "version_minor": 0
      },
      "text/plain": [
       "FloatProgress(value=0.0, bar_style='info', description='Progress:', layout=Layout(height='25px', width='50%'),…"
      ]
     },
     "metadata": {},
     "output_type": "display_data"
    },
    {
     "name": "stdout",
     "output_type": "stream",
     "text": [
      "Run time:  14.994751691818237 seconds"
     ]
    }
   ],
   "source": [
    "# 7.a normalized\n",
    "t = time.time()\n",
    "import plotly.graph_objects as go\n",
    "\n",
    "import numpy as np\n",
    "\n",
    "x = sample1.toPandas()\n",
    "x=x[\"fare_amount\"]\n",
    "fig = go.Figure(data=[go.Histogram(x=x, histnorm='probability')])\n",
    "\n",
    "fig.update_layout(\n",
    "    title=\"Distribution of ride fairs\")\n",
    "\n",
    "fig.show()\n",
    "print('Run time: ', time.time() - t , 'seconds')"
   ]
  },
  {
   "cell_type": "code",
   "execution_count": 28,
   "id": "e8890646",
   "metadata": {},
   "outputs": [
    {
     "data": {
      "application/vnd.jupyter.widget-view+json": {
       "model_id": "fc21ceea2bc54939b0b10711e861fd4f",
       "version_major": 2,
       "version_minor": 0
      },
      "text/plain": [
       "VBox()"
      ]
     },
     "metadata": {},
     "output_type": "display_data"
    },
    {
     "data": {
      "application/vnd.jupyter.widget-view+json": {
       "model_id": "",
       "version_major": 2,
       "version_minor": 0
      },
      "text/plain": [
       "FloatProgress(value=0.0, bar_style='info', description='Progress:', layout=Layout(height='25px', width='50%'),…"
      ]
     },
     "metadata": {},
     "output_type": "display_data"
    },
    {
     "name": "stdout",
     "output_type": "stream",
     "text": [
      "Run time:  14.954370975494385 seconds"
     ]
    }
   ],
   "source": [
    "# 7b- version A\n",
    "t = time.time()\n",
    "import plotly.express as px\n",
    "data_ = sample1.toPandas()\n",
    "fig = px.bar(data_, x='fare_amount', y='distance')\n",
    "fig.update_layout(\n",
    "    title=\"Ride fare vs. ride length\")\n",
    "\n",
    "fig.show()\n",
    "print('Run time: ', time.time() - t , 'seconds')"
   ]
  },
  {
   "cell_type": "code",
   "execution_count": 29,
   "id": "e9f679a1",
   "metadata": {},
   "outputs": [
    {
     "data": {
      "application/vnd.jupyter.widget-view+json": {
       "model_id": "c1ac106c3cfb4ffc88b4fd705bb1486d",
       "version_major": 2,
       "version_minor": 0
      },
      "text/plain": [
       "VBox()"
      ]
     },
     "metadata": {},
     "output_type": "display_data"
    },
    {
     "data": {
      "application/vnd.jupyter.widget-view+json": {
       "model_id": "",
       "version_major": 2,
       "version_minor": 0
      },
      "text/plain": [
       "FloatProgress(value=0.0, bar_style='info', description='Progress:', layout=Layout(height='25px', width='50%'),…"
      ]
     },
     "metadata": {},
     "output_type": "display_data"
    },
    {
     "name": "stdout",
     "output_type": "stream",
     "text": [
      "Run time:  15.031952857971191 seconds"
     ]
    }
   ],
   "source": [
    "# 7b- version B\n",
    "t = time.time()\n",
    "import plotly.express as px\n",
    "df = sample1.toPandas()\n",
    "\n",
    "# 2 options \n",
    "fig = px.scatter(df,x=\"fare_amount\", y=\"distance\")\n",
    "# fig = px.scatter(df,x=\"distance\", y=\"fare_amount\")\n",
    "fig.update_layout(\n",
    "    title=\"Ride fare vs. ride length\")\n",
    "fig.show()\n",
    "print('Run time: ', time.time() - t , 'seconds')"
   ]
  },
  {
   "cell_type": "code",
   "execution_count": 30,
   "id": "f04156d7",
   "metadata": {},
   "outputs": [
    {
     "data": {
      "application/vnd.jupyter.widget-view+json": {
       "model_id": "37f9c9265b0d4a888dcab099d4d4bfc5",
       "version_major": 2,
       "version_minor": 0
      },
      "text/plain": [
       "VBox()"
      ]
     },
     "metadata": {},
     "output_type": "display_data"
    },
    {
     "data": {
      "application/vnd.jupyter.widget-view+json": {
       "model_id": "",
       "version_major": 2,
       "version_minor": 0
      },
      "text/plain": [
       "FloatProgress(value=0.0, bar_style='info', description='Progress:', layout=Layout(height='25px', width='50%'),…"
      ]
     },
     "metadata": {},
     "output_type": "display_data"
    },
    {
     "name": "stdout",
     "output_type": "stream",
     "text": [
      "Run time:  15.532449960708618 seconds"
     ]
    }
   ],
   "source": [
    "# 7.c - version A\n",
    "t = time.time()\n",
    "import plotly.express as px\n",
    "df =  sample1.toPandas()\n",
    "fig = px.histogram(df, x=\"hour_of_day\", y=\"distance\", histfunc='avg')\n",
    "\n",
    "fig.update_layout(bargap=0.30,bargroupgap=0.0,title=\"Average ride length per pick up time hour of the day (x-axis = 24 hours)\")\n",
    "\n",
    "fig.show()\n",
    "print('Run time: ', time.time() - t , 'seconds')"
   ]
  },
  {
   "cell_type": "markdown",
   "id": "4bd82f89",
   "metadata": {},
   "source": [
    "# More preparetions"
   ]
  },
  {
   "cell_type": "code",
   "execution_count": 31,
   "id": "89315a6e",
   "metadata": {},
   "outputs": [
    {
     "data": {
      "application/vnd.jupyter.widget-view+json": {
       "model_id": "64022976091242a08ea02700094f111d",
       "version_major": 2,
       "version_minor": 0
      },
      "text/plain": [
       "VBox()"
      ]
     },
     "metadata": {},
     "output_type": "display_data"
    },
    {
     "data": {
      "application/vnd.jupyter.widget-view+json": {
       "model_id": "",
       "version_major": 2,
       "version_minor": 0
      },
      "text/plain": [
       "FloatProgress(value=0.0, bar_style='info', description='Progress:', layout=Layout(height='25px', width='50%'),…"
      ]
     },
     "metadata": {},
     "output_type": "display_data"
    },
    {
     "name": "stdout",
     "output_type": "stream",
     "text": [
      "+---------+---------------+-------------------+-----------+-----------+--------------------+\n",
      "|high_fare|passenger_count|           distance|hour_of_day|day_of_week|              vector|\n",
      "+---------+---------------+-------------------+-----------+-----------+--------------------+\n",
      "|        0|            1.0| 2.8847879409444266|         19|          3|[1.0,2.8847879409...|\n",
      "|        1|            1.0|  3.745045383430712|         20|          3|[1.0,3.7450453834...|\n",
      "|        0|            1.0|  1.304617552457649|         13|          1|[1.0,1.3046175524...|\n",
      "|        0|            1.0| 2.5238617905217566|         19|          7|[1.0,2.5238617905...|\n",
      "|        0|            1.0| 1.9369673352472951|         13|          7|[1.0,1.9369673352...|\n",
      "|        1|            2.0| 20.748283643692666|         14|          6|[2.0,20.748283643...|\n",
      "|        0|            1.0|  3.198885565601612|         22|          1|[1.0,3.1988855656...|\n",
      "|        0|            1.0| 2.0023518724222575|         15|          4|[1.0,2.0023518724...|\n",
      "|        0|            1.0|  0.549520853337195|         23|          3|[1.0,0.5495208533...|\n",
      "|        0|            5.0|0.48650038357508707|         20|          6|[5.0,0.4865003835...|\n",
      "|        0|            1.0| 0.9985411028272051|         19|          5|[1.0,0.9985411028...|\n",
      "|        0|            1.0| 2.7139590974534764|         13|          7|[1.0,2.7139590974...|\n",
      "|        1|            1.0|  7.836417373387165|          0|          6|[1.0,7.8364173733...|\n",
      "|        0|            1.0| 0.9026366308207779|         17|          3|[1.0,0.9026366308...|\n",
      "|        0|            1.0|  2.321491915673897|         17|          2|[1.0,2.3214919156...|\n",
      "|        0|            5.0| 1.1180913434333175|         17|          6|[5.0,1.1180913434...|\n",
      "|        0|            1.0| 2.3495813651991835|          1|          2|[1.0,2.3495813651...|\n",
      "|        1|            1.0| 1.9219756695529742|         15|          6|[1.0,1.9219756695...|\n",
      "|        1|            1.0| 2.3630492447253455|         17|          1|[1.0,2.3630492447...|\n",
      "|        1|            1.0|  7.702613649465259|         20|          1|[1.0,7.7026136494...|\n",
      "+---------+---------------+-------------------+-----------+-----------+--------------------+\n",
      "only showing top 20 rows\n",
      "\n",
      "Run time:  1.101574420928955 seconds"
     ]
    }
   ],
   "source": [
    "# select the relevant columns and making tuple column from all relevant columns (features)\n",
    "\n",
    "t = time.time()\n",
    "\n",
    "selected = [\"high_fare\", \"passenger_count\", \"distance\", \n",
    "            \"hour_of_day\", \"day_of_week\"]\n",
    "\n",
    "filtered_train = train.select(*selected)\n",
    "\n",
    "# making column as a tuple of all features\n",
    "vectored = VectorAssembler(inputCols=['passenger_count','distance','hour_of_day','day_of_week'], outputCol='vector')\n",
    "vectored.setHandleInvalid(\"skip\").transform(filtered_train)\n",
    "filtered_train = vectored.transform(filtered_train)\n",
    "\n",
    "\n",
    "filtered_train.show()\n",
    "\n",
    "print('Run time: ', time.time() - t , 'seconds')"
   ]
  },
  {
   "cell_type": "code",
   "execution_count": 32,
   "id": "5e629085",
   "metadata": {},
   "outputs": [
    {
     "data": {
      "application/vnd.jupyter.widget-view+json": {
       "model_id": "0522a29ac39f462cb79db685ec86fe30",
       "version_major": 2,
       "version_minor": 0
      },
      "text/plain": [
       "VBox()"
      ]
     },
     "metadata": {},
     "output_type": "display_data"
    },
    {
     "data": {
      "application/vnd.jupyter.widget-view+json": {
       "model_id": "",
       "version_major": 2,
       "version_minor": 0
      },
      "text/plain": [
       "FloatProgress(value=0.0, bar_style='info', description='Progress:', layout=Layout(height='25px', width='50%'),…"
      ]
     },
     "metadata": {},
     "output_type": "display_data"
    },
    {
     "name": "stdout",
     "output_type": "stream",
     "text": [
      "+---------+---------------+-------------------+-----------+-----------+--------------------+--------------------+\n",
      "|high_fare|passenger_count|           distance|hour_of_day|day_of_week|              vector|       scaled_vector|\n",
      "+---------+---------------+-------------------+-----------+-----------+--------------------+--------------------+\n",
      "|        0|            1.0| 2.8847879409444266|         19|          3|[1.0,2.8847879409...|[0.86542381091983...|\n",
      "|        1|            1.0|  3.745045383430712|         20|          3|[1.0,3.7450453834...|[0.86542381091983...|\n",
      "|        0|            1.0|  1.304617552457649|         13|          1|[1.0,1.3046175524...|[0.86542381091983...|\n",
      "|        0|            1.0| 2.5238617905217566|         19|          7|[1.0,2.5238617905...|[0.86542381091983...|\n",
      "|        0|            1.0| 1.9369673352472951|         13|          7|[1.0,1.9369673352...|[0.86542381091983...|\n",
      "|        1|            2.0| 20.748283643692666|         14|          6|[2.0,20.748283643...|[1.73084762183966...|\n",
      "|        0|            1.0|  3.198885565601612|         22|          1|[1.0,3.1988855656...|[0.86542381091983...|\n",
      "|        0|            1.0| 2.0023518724222575|         15|          4|[1.0,2.0023518724...|[0.86542381091983...|\n",
      "|        0|            1.0|  0.549520853337195|         23|          3|[1.0,0.5495208533...|[0.86542381091983...|\n",
      "|        0|            5.0|0.48650038357508707|         20|          6|[5.0,0.4865003835...|[4.32711905459915...|\n",
      "|        0|            1.0| 0.9985411028272051|         19|          5|[1.0,0.9985411028...|[0.86542381091983...|\n",
      "|        0|            1.0| 2.7139590974534764|         13|          7|[1.0,2.7139590974...|[0.86542381091983...|\n",
      "|        1|            1.0|  7.836417373387165|          0|          6|[1.0,7.8364173733...|[0.86542381091983...|\n",
      "|        0|            1.0| 0.9026366308207779|         17|          3|[1.0,0.9026366308...|[0.86542381091983...|\n",
      "|        0|            1.0|  2.321491915673897|         17|          2|[1.0,2.3214919156...|[0.86542381091983...|\n",
      "|        0|            5.0| 1.1180913434333175|         17|          6|[5.0,1.1180913434...|[4.32711905459915...|\n",
      "|        0|            1.0| 2.3495813651991835|          1|          2|[1.0,2.3495813651...|[0.86542381091983...|\n",
      "|        1|            1.0| 1.9219756695529742|         15|          6|[1.0,1.9219756695...|[0.86542381091983...|\n",
      "|        1|            1.0| 2.3630492447253455|         17|          1|[1.0,2.3630492447...|[0.86542381091983...|\n",
      "|        1|            1.0|  7.702613649465259|         20|          1|[1.0,7.7026136494...|[0.86542381091983...|\n",
      "+---------+---------------+-------------------+-----------+-----------+--------------------+--------------------+\n",
      "only showing top 20 rows\n",
      "\n",
      "Run time:  56.36718130111694 seconds"
     ]
    }
   ],
   "source": [
    "# StandardScaler - scaling the data\n",
    "t = time.time()\n",
    "scalar = StandardScaler().setInputCol('vector').setOutputCol('scaled_vector')\n",
    "scalar_model = scalar.fit(filtered_train)\n",
    "scalar_train = scalar_model.transform(filtered_train)\n",
    "\n",
    "scalar_train.show()\n",
    "print('Run time: ', time.time() - t , 'seconds')"
   ]
  },
  {
   "cell_type": "code",
   "execution_count": 33,
   "id": "d81dee6c",
   "metadata": {},
   "outputs": [
    {
     "data": {
      "application/vnd.jupyter.widget-view+json": {
       "model_id": "b19ba498689347cbbe58f6affc681abc",
       "version_major": 2,
       "version_minor": 0
      },
      "text/plain": [
       "VBox()"
      ]
     },
     "metadata": {},
     "output_type": "display_data"
    },
    {
     "data": {
      "application/vnd.jupyter.widget-view+json": {
       "model_id": "",
       "version_major": 2,
       "version_minor": 0
      },
      "text/plain": [
       "FloatProgress(value=0.0, bar_style='info', description='Progress:', layout=Layout(height='25px', width='50%'),…"
      ]
     },
     "metadata": {},
     "output_type": "display_data"
    },
    {
     "name": "stdout",
     "output_type": "stream",
     "text": [
      "Run time:  0.019936323165893555 seconds"
     ]
    }
   ],
   "source": [
    "#split to train and validation sets\n",
    "\n",
    "t = time.time()\n",
    "\n",
    "train_set, val_set = scalar_train.randomSplit([0.8, 0.2], seed=12345)\n",
    "\n",
    "print('Run time: ', time.time() - t , 'seconds')"
   ]
  },
  {
   "cell_type": "code",
   "execution_count": 34,
   "id": "eef4a0ac",
   "metadata": {},
   "outputs": [
    {
     "data": {
      "application/vnd.jupyter.widget-view+json": {
       "model_id": "32d13cb0b97542a286d2708b79ac2eb4",
       "version_major": 2,
       "version_minor": 0
      },
      "text/plain": [
       "VBox()"
      ]
     },
     "metadata": {},
     "output_type": "display_data"
    },
    {
     "data": {
      "application/vnd.jupyter.widget-view+json": {
       "model_id": "",
       "version_major": 2,
       "version_minor": 0
      },
      "text/plain": [
       "FloatProgress(value=0.0, bar_style='info', description='Progress:', layout=Layout(height='25px', width='50%'),…"
      ]
     },
     "metadata": {},
     "output_type": "display_data"
    },
    {
     "name": "stdout",
     "output_type": "stream",
     "text": [
      "The number of ones are 5941498\n",
      "Percentage of ones are 38.882128768963184"
     ]
    }
   ],
   "source": [
    "# Let us check whether their is imbalance in the dataset\n",
    "dataset_size=float(train_set.select(\"high_fare\").count())\n",
    "numPositives=train_set.select(\"high_fare\").where('high_fare == 1').count()\n",
    "per_ones=(float(numPositives)/float(dataset_size))*100\n",
    "numNegatives=float(dataset_size-numPositives)\n",
    "print('The number of ones are {}'.format(numPositives))\n",
    "print('Percentage of ones are {}'.format(per_ones))"
   ]
  },
  {
   "cell_type": "code",
   "execution_count": 35,
   "id": "a305c759",
   "metadata": {},
   "outputs": [
    {
     "data": {
      "application/vnd.jupyter.widget-view+json": {
       "model_id": "cc8f9abf209c4be1b4a38b716d3077f8",
       "version_major": 2,
       "version_minor": 0
      },
      "text/plain": [
       "VBox()"
      ]
     },
     "metadata": {},
     "output_type": "display_data"
    },
    {
     "data": {
      "application/vnd.jupyter.widget-view+json": {
       "model_id": "",
       "version_major": 2,
       "version_minor": 0
      },
      "text/plain": [
       "FloatProgress(value=0.0, bar_style='info', description='Progress:', layout=Layout(height='25px', width='50%'),…"
      ]
     },
     "metadata": {},
     "output_type": "display_data"
    },
    {
     "name": "stdout",
     "output_type": "stream",
     "text": [
      "BalancingRatio = 0.6111787123103681\n",
      "Run time:  0.02907729148864746 seconds"
     ]
    }
   ],
   "source": [
    "# Imbalancing handling - by adding weights\n",
    "t = time.time()\n",
    "\n",
    "BalancingRatio= numNegatives/dataset_size\n",
    "print('BalancingRatio = {}'.format(BalancingRatio))\n",
    "\n",
    "# creating a new column named “classWeights” in the “train” dataset\n",
    "train_set = train_set.withColumn(\"classWeights\", when(train_set.high_fare == 1,BalancingRatio).otherwise(1-BalancingRatio))\n",
    "\n",
    "print('Run time: ', time.time() - t , 'seconds')"
   ]
  },
  {
   "cell_type": "markdown",
   "id": "f902eb25",
   "metadata": {},
   "source": [
    "# Models"
   ]
  },
  {
   "cell_type": "code",
   "execution_count": 36,
   "id": "dd8d2c12",
   "metadata": {},
   "outputs": [
    {
     "data": {
      "application/vnd.jupyter.widget-view+json": {
       "model_id": "7e4e758999114064930550a2577aa03e",
       "version_major": 2,
       "version_minor": 0
      },
      "text/plain": [
       "VBox()"
      ]
     },
     "metadata": {},
     "output_type": "display_data"
    },
    {
     "data": {
      "application/vnd.jupyter.widget-view+json": {
       "model_id": "",
       "version_major": 2,
       "version_minor": 0
      },
      "text/plain": [
       "FloatProgress(value=0.0, bar_style='info', description='Progress:', layout=Layout(height='25px', width='50%'),…"
      ]
     },
     "metadata": {},
     "output_type": "display_data"
    },
    {
     "name": "stdout",
     "output_type": "stream",
     "text": [
      "Run time:  0.018456459045410156 seconds"
     ]
    }
   ],
   "source": [
    "# Create the evaluator for all models for AUC calculations\n",
    "\n",
    "from pyspark.ml.evaluation import BinaryClassificationEvaluator\n",
    "\n",
    "t = time.time()\n",
    "evaluator = BinaryClassificationEvaluator(labelCol='high_fare',metricName='areaUnderROC')\n",
    "\n",
    "print('Run time: ', time.time() - t , 'seconds')"
   ]
  },
  {
   "cell_type": "markdown",
   "id": "be279daf",
   "metadata": {},
   "source": [
    "### Logistic Regression"
   ]
  },
  {
   "cell_type": "code",
   "execution_count": 37,
   "id": "2c3ca9aa",
   "metadata": {},
   "outputs": [
    {
     "data": {
      "application/vnd.jupyter.widget-view+json": {
       "model_id": "660b0e60456747c4b7a5af6ea52e9176",
       "version_major": 2,
       "version_minor": 0
      },
      "text/plain": [
       "VBox()"
      ]
     },
     "metadata": {},
     "output_type": "display_data"
    },
    {
     "data": {
      "application/vnd.jupyter.widget-view+json": {
       "model_id": "",
       "version_major": 2,
       "version_minor": 0
      },
      "text/plain": [
       "FloatProgress(value=0.0, bar_style='info', description='Progress:', layout=Layout(height='25px', width='50%'),…"
      ]
     },
     "metadata": {},
     "output_type": "display_data"
    },
    {
     "name": "stdout",
     "output_type": "stream",
     "text": [
      "Run time:  140.89545392990112 seconds"
     ]
    }
   ],
   "source": [
    "# train logistic regression\n",
    "from pyspark.ml.classification import LogisticRegression\n",
    "\n",
    "t = time.time()\n",
    "\n",
    "lr = LogisticRegression(labelCol=\"high_fare\", featuresCol=\"scaled_vector\", weightCol=\"classWeights\")\n",
    "lr_model = lr.fit(train_set)\n",
    "# p_train_lr = lr_model.transform(train_set)\n",
    "predictions_lr = lr_model.transform(val_set)\n",
    "\n",
    "print('Run time: ', time.time() - t , 'seconds')"
   ]
  },
  {
   "cell_type": "markdown",
   "id": "f719e70a",
   "metadata": {},
   "source": [
    "#### test on validation"
   ]
  },
  {
   "cell_type": "code",
   "execution_count": 38,
   "id": "a553126a",
   "metadata": {},
   "outputs": [
    {
     "data": {
      "application/vnd.jupyter.widget-view+json": {
       "model_id": "58ad7bc213614b37bfadd0ca02d5ded8",
       "version_major": 2,
       "version_minor": 0
      },
      "text/plain": [
       "VBox()"
      ]
     },
     "metadata": {},
     "output_type": "display_data"
    },
    {
     "data": {
      "application/vnd.jupyter.widget-view+json": {
       "model_id": "",
       "version_major": 2,
       "version_minor": 0
      },
      "text/plain": [
       "FloatProgress(value=0.0, bar_style='info', description='Progress:', layout=Layout(height='25px', width='50%'),…"
      ]
     },
     "metadata": {},
     "output_type": "display_data"
    },
    {
     "name": "stdout",
     "output_type": "stream",
     "text": [
      "The LR confusion matrix:\n",
      "[[2257766   76129]\n",
      " [ 501952  982176]]\n",
      "              precision    recall  f1-score   support\n",
      "\n",
      "           0       0.82      0.97      0.89   2333895\n",
      "           1       0.93      0.66      0.77   1484128\n",
      "\n",
      "    accuracy                           0.85   3818023\n",
      "   macro avg       0.87      0.81      0.83   3818023\n",
      "weighted avg       0.86      0.85      0.84   3818023\n",
      "\n",
      "Run time:  403.32832384109497 seconds"
     ]
    }
   ],
   "source": [
    "# confusion matrix:\n",
    "t = time.time()\n",
    "\n",
    "from sklearn.metrics import classification_report, confusion_matrix\n",
    "\n",
    "y_true_lr = predictions_lr.select(['high_fare']).collect()\n",
    "y_pred_lr = predictions_lr.select(['prediction']).collect()\n",
    "\n",
    "print('The LR confusion matrix:')\n",
    "print(confusion_matrix(y_true_lr, y_pred_lr))\n",
    "\n",
    "print(classification_report(y_true_lr, y_pred_lr))\n",
    "\n",
    "\n",
    "print('Run time: ', time.time() - t , 'seconds')"
   ]
  },
  {
   "cell_type": "code",
   "execution_count": 39,
   "id": "18142692",
   "metadata": {},
   "outputs": [
    {
     "data": {
      "application/vnd.jupyter.widget-view+json": {
       "model_id": "9690c53a34b2462ca9fe9ec4aef366d3",
       "version_major": 2,
       "version_minor": 0
      },
      "text/plain": [
       "VBox()"
      ]
     },
     "metadata": {},
     "output_type": "display_data"
    },
    {
     "data": {
      "application/vnd.jupyter.widget-view+json": {
       "model_id": "",
       "version_major": 2,
       "version_minor": 0
      },
      "text/plain": [
       "FloatProgress(value=0.0, bar_style='info', description='Progress:', layout=Layout(height='25px', width='50%'),…"
      ]
     },
     "metadata": {},
     "output_type": "display_data"
    },
    {
     "name": "stdout",
     "output_type": "stream",
     "text": [
      "evaluation test (area under ROC): 0.917304\n",
      "Run time:  69.01463842391968 seconds"
     ]
    }
   ],
   "source": [
    "# AUC\n",
    "\n",
    "# Apply evaluator to data \n",
    "\n",
    "t = time.time()\n",
    "# evaluation_train = evaluator.evaluate(p_train_lr)\n",
    "evaluation_test_lr = evaluator.evaluate(predictions_lr)\n",
    "\n",
    "# The result of evaluate is, by default, the \"Area Under Curve\":\n",
    "# print(\"evaluation train (area under ROC): %f\" % evaluation_train)\n",
    "print(\"evaluation test (area under ROC): %f\" % evaluation_test_lr)\n",
    "\n",
    "print('Run time: ', time.time() - t , 'seconds')"
   ]
  },
  {
   "cell_type": "markdown",
   "id": "0b8480bc",
   "metadata": {},
   "source": [
    "### Decision Tree"
   ]
  },
  {
   "cell_type": "code",
   "execution_count": 40,
   "id": "d1bdb822",
   "metadata": {},
   "outputs": [
    {
     "data": {
      "application/vnd.jupyter.widget-view+json": {
       "model_id": "e76ceaea0746497f9eb71d6ed28f464c",
       "version_major": 2,
       "version_minor": 0
      },
      "text/plain": [
       "VBox()"
      ]
     },
     "metadata": {},
     "output_type": "display_data"
    },
    {
     "data": {
      "application/vnd.jupyter.widget-view+json": {
       "model_id": "",
       "version_major": 2,
       "version_minor": 0
      },
      "text/plain": [
       "FloatProgress(value=0.0, bar_style='info', description='Progress:', layout=Layout(height='25px', width='50%'),…"
      ]
     },
     "metadata": {},
     "output_type": "display_data"
    },
    {
     "name": "stdout",
     "output_type": "stream",
     "text": [
      "Run time:  299.4897127151489 seconds"
     ]
    }
   ],
   "source": [
    "# train decision tree\n",
    "from pyspark.ml.classification import DecisionTreeClassifier\n",
    "\n",
    "t = time.time()\n",
    "\n",
    "dt = DecisionTreeClassifier(labelCol=\"high_fare\", featuresCol=\"scaled_vector\", weightCol=\"classWeights\")\n",
    "dt_model = dt.fit(train_set)\n",
    "# p_train_dt = dt_model.transform(train_set)\n",
    "predictions_dt = dt_model.transform(val_set)\n",
    "\n",
    "print('Run time: ', time.time() - t , 'seconds')"
   ]
  },
  {
   "cell_type": "markdown",
   "id": "917e5521",
   "metadata": {},
   "source": [
    "#### test on validation"
   ]
  },
  {
   "cell_type": "code",
   "execution_count": 41,
   "id": "0c0e1437",
   "metadata": {},
   "outputs": [
    {
     "data": {
      "application/vnd.jupyter.widget-view+json": {
       "model_id": "1a4d242765a245bd8fe55b582149ef4c",
       "version_major": 2,
       "version_minor": 0
      },
      "text/plain": [
       "VBox()"
      ]
     },
     "metadata": {},
     "output_type": "display_data"
    },
    {
     "data": {
      "application/vnd.jupyter.widget-view+json": {
       "model_id": "",
       "version_major": 2,
       "version_minor": 0
      },
      "text/plain": [
       "FloatProgress(value=0.0, bar_style='info', description='Progress:', layout=Layout(height='25px', width='50%'),…"
      ]
     },
     "metadata": {},
     "output_type": "display_data"
    },
    {
     "name": "stdout",
     "output_type": "stream",
     "text": [
      "The decision tree confusion matrix:\n",
      "[[2001786  332109]\n",
      " [ 221836 1262292]]\n",
      "              precision    recall  f1-score   support\n",
      "\n",
      "           0       0.90      0.86      0.88   2333895\n",
      "           1       0.79      0.85      0.82   1484128\n",
      "\n",
      "    accuracy                           0.85   3818023\n",
      "   macro avg       0.85      0.85      0.85   3818023\n",
      "weighted avg       0.86      0.85      0.86   3818023\n",
      "\n",
      "Run time:  402.47747588157654 seconds"
     ]
    }
   ],
   "source": [
    "# confusion matrix\n",
    "\n",
    "t = time.time()\n",
    "\n",
    "from sklearn.metrics import classification_report, confusion_matrix\n",
    "\n",
    "y_true_dt = predictions_dt.select(['high_fare']).collect()\n",
    "y_pred_dt = predictions_dt.select(['prediction']).collect()\n",
    "\n",
    "print('The decision tree confusion matrix:')\n",
    "print(confusion_matrix(y_true_dt, y_pred_dt))\n",
    "\n",
    "print(classification_report(y_true_dt, y_pred_dt))\n",
    "\n",
    "print('Run time: ', time.time() - t , 'seconds')"
   ]
  },
  {
   "cell_type": "code",
   "execution_count": 42,
   "id": "95d73701",
   "metadata": {},
   "outputs": [
    {
     "data": {
      "application/vnd.jupyter.widget-view+json": {
       "model_id": "79ffbe8d6dad4edfba28816201de59d8",
       "version_major": 2,
       "version_minor": 0
      },
      "text/plain": [
       "VBox()"
      ]
     },
     "metadata": {},
     "output_type": "display_data"
    },
    {
     "data": {
      "application/vnd.jupyter.widget-view+json": {
       "model_id": "",
       "version_major": 2,
       "version_minor": 0
      },
      "text/plain": [
       "FloatProgress(value=0.0, bar_style='info', description='Progress:', layout=Layout(height='25px', width='50%'),…"
      ]
     },
     "metadata": {},
     "output_type": "display_data"
    },
    {
     "name": "stdout",
     "output_type": "stream",
     "text": [
      "evaluation test (area under ROC): 0.744871\n",
      "Run time:  65.88747978210449 seconds"
     ]
    }
   ],
   "source": [
    "# AUC\n",
    "\n",
    "# Apply evaluator to data \n",
    "\n",
    "t = time.time()\n",
    "# evaluation_train = evaluator.evaluate(p_train_lr)\n",
    "evaluation_test_dt = evaluator.evaluate(predictions_dt)\n",
    "\n",
    "# The result of evaluate is, by default, the \"Area Under Curve\":\n",
    "# print(\"evaluation train (area under ROC): %f\" % evaluation_train)\n",
    "print(\"evaluation test (area under ROC): %f\" % evaluation_test_dt)\n",
    "\n",
    "print('Run time: ', time.time() - t , 'seconds')"
   ]
  },
  {
   "cell_type": "markdown",
   "id": "69b76428",
   "metadata": {},
   "source": [
    "### Gradient-boosted Tree"
   ]
  },
  {
   "cell_type": "code",
   "execution_count": 43,
   "id": "6e13f38a",
   "metadata": {},
   "outputs": [
    {
     "data": {
      "application/vnd.jupyter.widget-view+json": {
       "model_id": "0aef42cac64843c59c18342d0c062f44",
       "version_major": 2,
       "version_minor": 0
      },
      "text/plain": [
       "VBox()"
      ]
     },
     "metadata": {},
     "output_type": "display_data"
    },
    {
     "data": {
      "application/vnd.jupyter.widget-view+json": {
       "model_id": "",
       "version_major": 2,
       "version_minor": 0
      },
      "text/plain": [
       "FloatProgress(value=0.0, bar_style='info', description='Progress:', layout=Layout(height='25px', width='50%'),…"
      ]
     },
     "metadata": {},
     "output_type": "display_data"
    },
    {
     "name": "stdout",
     "output_type": "stream",
     "text": [
      "Run time:  308.04555463790894 seconds"
     ]
    }
   ],
   "source": [
    "# train gradient-boosted tree\n",
    "\n",
    "from pyspark.ml.classification import GBTClassifier\n",
    "\n",
    "t = time.time()\n",
    "\n",
    "gbt = GBTClassifier(labelCol=\"high_fare\", featuresCol=\"scaled_vector\", weightCol=\"classWeights\")\n",
    "gbt_model = gbt.fit(train_set)\n",
    "# p_train_gbt = gbt_model.transform(train_set)\n",
    "predictions_gbt = gbt_model.transform(val_set)\n",
    "\n",
    "print('Run time: ', time.time() - t , 'seconds')"
   ]
  },
  {
   "cell_type": "markdown",
   "id": "d69c7344",
   "metadata": {},
   "source": [
    "#### test on validation"
   ]
  },
  {
   "cell_type": "code",
   "execution_count": 44,
   "id": "ae183dec",
   "metadata": {},
   "outputs": [
    {
     "data": {
      "application/vnd.jupyter.widget-view+json": {
       "model_id": "77329f38ebe94381b7d6c5e5729c3175",
       "version_major": 2,
       "version_minor": 0
      },
      "text/plain": [
       "VBox()"
      ]
     },
     "metadata": {},
     "output_type": "display_data"
    },
    {
     "data": {
      "application/vnd.jupyter.widget-view+json": {
       "model_id": "",
       "version_major": 2,
       "version_minor": 0
      },
      "text/plain": [
       "FloatProgress(value=0.0, bar_style='info', description='Progress:', layout=Layout(height='25px', width='50%'),…"
      ]
     },
     "metadata": {},
     "output_type": "display_data"
    },
    {
     "name": "stdout",
     "output_type": "stream",
     "text": [
      "The GBT confusion matrix:\n",
      "[[2055682  278213]\n",
      " [ 245805 1238323]]\n",
      "              precision    recall  f1-score   support\n",
      "\n",
      "           0       0.89      0.88      0.89   2333895\n",
      "           1       0.82      0.83      0.83   1484128\n",
      "\n",
      "    accuracy                           0.86   3818023\n",
      "   macro avg       0.85      0.86      0.86   3818023\n",
      "weighted avg       0.86      0.86      0.86   3818023\n",
      "\n",
      "Run time:  403.7405741214752 seconds"
     ]
    }
   ],
   "source": [
    "# confusion matrix\n",
    "\n",
    "t = time.time()\n",
    "\n",
    "from sklearn.metrics import classification_report, confusion_matrix\n",
    "\n",
    "y_true_gbt = predictions_gbt.select(['high_fare']).collect()\n",
    "y_pred_gbt = predictions_gbt.select(['prediction']).collect()\n",
    "\n",
    "print('The GBT confusion matrix:')\n",
    "print(confusion_matrix(y_true_gbt, y_pred_gbt))\n",
    "\n",
    "print(classification_report(y_true_gbt, y_pred_gbt))\n",
    "\n",
    "print('Run time: ', time.time() - t , 'seconds')"
   ]
  },
  {
   "cell_type": "code",
   "execution_count": 45,
   "id": "a311abf1",
   "metadata": {},
   "outputs": [
    {
     "data": {
      "application/vnd.jupyter.widget-view+json": {
       "model_id": "1eb55cf166674480a5f4a92239f1d01c",
       "version_major": 2,
       "version_minor": 0
      },
      "text/plain": [
       "VBox()"
      ]
     },
     "metadata": {},
     "output_type": "display_data"
    },
    {
     "data": {
      "application/vnd.jupyter.widget-view+json": {
       "model_id": "",
       "version_major": 2,
       "version_minor": 0
      },
      "text/plain": [
       "FloatProgress(value=0.0, bar_style='info', description='Progress:', layout=Layout(height='25px', width='50%'),…"
      ]
     },
     "metadata": {},
     "output_type": "display_data"
    },
    {
     "name": "stdout",
     "output_type": "stream",
     "text": [
      "evaluation test (area under ROC): 0.931808\n",
      "Run time:  64.75766110420227 seconds"
     ]
    }
   ],
   "source": [
    "# AUC\n",
    "\n",
    "# Apply evaluator to data \n",
    "\n",
    "t = time.time()\n",
    "# evaluation_train = evaluator.evaluate(p_train_lr)\n",
    "evaluation_test_gbt = evaluator.evaluate(predictions_gbt)\n",
    "\n",
    "# The result of evaluate is, by default, the \"Area Under Curve\":\n",
    "# print(\"evaluation train (area under ROC): %f\" % evaluation_train)\n",
    "print(\"evaluation test (area under ROC): %f\" % evaluation_test_gbt)\n",
    "\n",
    "print('Run time: ', time.time() - t , 'seconds')"
   ]
  },
  {
   "cell_type": "markdown",
   "id": "83a4c624",
   "metadata": {},
   "source": [
    "### Random Forest"
   ]
  },
  {
   "cell_type": "code",
   "execution_count": 46,
   "id": "1c1d7271",
   "metadata": {},
   "outputs": [
    {
     "data": {
      "application/vnd.jupyter.widget-view+json": {
       "model_id": "677307a9c8f540d68ccd69c5c97344b4",
       "version_major": 2,
       "version_minor": 0
      },
      "text/plain": [
       "VBox()"
      ]
     },
     "metadata": {},
     "output_type": "display_data"
    },
    {
     "data": {
      "application/vnd.jupyter.widget-view+json": {
       "model_id": "",
       "version_major": 2,
       "version_minor": 0
      },
      "text/plain": [
       "FloatProgress(value=0.0, bar_style='info', description='Progress:', layout=Layout(height='25px', width='50%'),…"
      ]
     },
     "metadata": {},
     "output_type": "display_data"
    },
    {
     "name": "stdout",
     "output_type": "stream",
     "text": [
      "Run time:  323.69037795066833 seconds"
     ]
    }
   ],
   "source": [
    "from pyspark.ml.classification import RandomForestClassifier\n",
    "\n",
    "t = time.time()\n",
    "\n",
    "rf = RandomForestClassifier(labelCol=\"high_fare\", featuresCol=\"scaled_vector\", weightCol=\"classWeights\",numTrees=20)\n",
    "rf_model = rf.fit(train_set)\n",
    "# p_train_dt = rf_model.transform(train_set)\n",
    "predictions_rf = rf_model.transform(val_set)\n",
    "\n",
    "print('Run time: ', time.time() - t , 'seconds')"
   ]
  },
  {
   "cell_type": "markdown",
   "id": "d872531d",
   "metadata": {},
   "source": [
    "#### test on validation"
   ]
  },
  {
   "cell_type": "code",
   "execution_count": 47,
   "id": "fd33d14a",
   "metadata": {},
   "outputs": [
    {
     "data": {
      "application/vnd.jupyter.widget-view+json": {
       "model_id": "0eb35ffe6413418a9a42ebd1609b940e",
       "version_major": 2,
       "version_minor": 0
      },
      "text/plain": [
       "VBox()"
      ]
     },
     "metadata": {},
     "output_type": "display_data"
    },
    {
     "data": {
      "application/vnd.jupyter.widget-view+json": {
       "model_id": "",
       "version_major": 2,
       "version_minor": 0
      },
      "text/plain": [
       "FloatProgress(value=0.0, bar_style='info', description='Progress:', layout=Layout(height='25px', width='50%'),…"
      ]
     },
     "metadata": {},
     "output_type": "display_data"
    },
    {
     "name": "stdout",
     "output_type": "stream",
     "text": [
      "The RF confusion matrix:\n",
      "[[2072443  261452]\n",
      " [ 268579 1215549]]\n",
      "              precision    recall  f1-score   support\n",
      "\n",
      "           0       0.89      0.89      0.89   2333895\n",
      "           1       0.82      0.82      0.82   1484128\n",
      "\n",
      "    accuracy                           0.86   3818023\n",
      "   macro avg       0.85      0.85      0.85   3818023\n",
      "weighted avg       0.86      0.86      0.86   3818023\n",
      "\n",
      "Run time:  406.61516070365906 seconds"
     ]
    }
   ],
   "source": [
    "# confusion matrix\n",
    "\n",
    "t = time.time()\n",
    "\n",
    "from sklearn.metrics import classification_report, confusion_matrix\n",
    "\n",
    "y_true_rf = predictions_rf.select(['high_fare']).collect()\n",
    "y_pred_rf = predictions_rf.select(['prediction']).collect()\n",
    "\n",
    "print('The RF confusion matrix:')\n",
    "print(confusion_matrix(y_true_rf, y_pred_rf))\n",
    "\n",
    "print(classification_report(y_true_rf, y_pred_rf))\n",
    "\n",
    "print('Run time: ', time.time() - t , 'seconds')"
   ]
  },
  {
   "cell_type": "code",
   "execution_count": 48,
   "id": "0c875ec2",
   "metadata": {},
   "outputs": [
    {
     "data": {
      "application/vnd.jupyter.widget-view+json": {
       "model_id": "dbd2d183071d4b63a6083e0ff183028e",
       "version_major": 2,
       "version_minor": 0
      },
      "text/plain": [
       "VBox()"
      ]
     },
     "metadata": {},
     "output_type": "display_data"
    },
    {
     "data": {
      "application/vnd.jupyter.widget-view+json": {
       "model_id": "",
       "version_major": 2,
       "version_minor": 0
      },
      "text/plain": [
       "FloatProgress(value=0.0, bar_style='info', description='Progress:', layout=Layout(height='25px', width='50%'),…"
      ]
     },
     "metadata": {},
     "output_type": "display_data"
    },
    {
     "name": "stdout",
     "output_type": "stream",
     "text": [
      "evaluation test (area under ROC): 0.903696\n",
      "Run time:  65.05274105072021 seconds"
     ]
    }
   ],
   "source": [
    "# AUC\n",
    "\n",
    "# Apply evaluator to data \n",
    "\n",
    "t = time.time()\n",
    "# evaluation_train = evaluator.evaluate(p_train_lr)\n",
    "evaluation_test_rf = evaluator.evaluate(predictions_rf)\n",
    "\n",
    "# The result of evaluate is, by default, the \"Area Under Curve\":\n",
    "# print(\"evaluation train (area under ROC): %f\" % evaluation_train)\n",
    "print(\"evaluation test (area under ROC): %f\" % evaluation_test_rf)\n",
    "\n",
    "print('Run time: ', time.time() - t , 'seconds')"
   ]
  },
  {
   "cell_type": "markdown",
   "id": "e9d0d390",
   "metadata": {},
   "source": [
    "### Best result"
   ]
  },
  {
   "cell_type": "code",
   "execution_count": 49,
   "id": "28f6f916",
   "metadata": {},
   "outputs": [
    {
     "data": {
      "application/vnd.jupyter.widget-view+json": {
       "model_id": "e3bc28a3f2c0494eab6d89c0037be3bb",
       "version_major": 2,
       "version_minor": 0
      },
      "text/plain": [
       "VBox()"
      ]
     },
     "metadata": {},
     "output_type": "display_data"
    },
    {
     "data": {
      "application/vnd.jupyter.widget-view+json": {
       "model_id": "",
       "version_major": 2,
       "version_minor": 0
      },
      "text/plain": [
       "FloatProgress(value=0.0, bar_style='info', description='Progress:', layout=Layout(height='25px', width='50%'),…"
      ]
     },
     "metadata": {},
     "output_type": "display_data"
    },
    {
     "name": "stdout",
     "output_type": "stream",
     "text": [
      "The best algorithm is:  GBT\n",
      "Run time:  0.00019979476928710938 seconds"
     ]
    }
   ],
   "source": [
    "# Best result based on val set:\n",
    "t = time.time()\n",
    "d = {'LR': evaluation_test_lr, 'Decision Tree': evaluation_test_dt, 'GBT': evaluation_test_gbt, 'RF': evaluation_test_rf}\n",
    "dd = {'LR': lr_model, 'Decision Tree': dt_model, 'GBT': gbt_model, 'RF': rf_model}\n",
    "chosen = max(d, key=d.get)\n",
    "chosen_model = dd[chosen]\n",
    "print('The best algorithm is: ', chosen)\n",
    "print('Run time: ', time.time() - t , 'seconds')"
   ]
  },
  {
   "cell_type": "markdown",
   "id": "47bf7e12",
   "metadata": {},
   "source": [
    "# Test the data set"
   ]
  },
  {
   "cell_type": "markdown",
   "id": "bdfaf955",
   "metadata": {},
   "source": [
    "### preparetions"
   ]
  },
  {
   "cell_type": "code",
   "execution_count": 50,
   "id": "bc819e9e",
   "metadata": {},
   "outputs": [
    {
     "data": {
      "application/vnd.jupyter.widget-view+json": {
       "model_id": "06b86137391348358f887b20d81fe492",
       "version_major": 2,
       "version_minor": 0
      },
      "text/plain": [
       "VBox()"
      ]
     },
     "metadata": {},
     "output_type": "display_data"
    },
    {
     "data": {
      "application/vnd.jupyter.widget-view+json": {
       "model_id": "",
       "version_major": 2,
       "version_minor": 0
      },
      "text/plain": [
       "FloatProgress(value=0.0, bar_style='info', description='Progress:', layout=Layout(height='25px', width='50%'),…"
      ]
     },
     "metadata": {},
     "output_type": "display_data"
    },
    {
     "name": "stdout",
     "output_type": "stream",
     "text": [
      "root\n",
      " |-- key: integer (nullable = true)\n",
      " |-- pickup_datetime: string (nullable = true)\n",
      " |-- pickup_longitude: double (nullable = true)\n",
      " |-- pickup_latitude: double (nullable = true)\n",
      " |-- dropoff_longitude: double (nullable = true)\n",
      " |-- dropoff_latitude: double (nullable = true)\n",
      " |-- passenger_count: integer (nullable = true)\n",
      "\n",
      "Run time:  0.207688570022583 seconds"
     ]
    }
   ],
   "source": [
    "# load test\n",
    "t = time.time()\n",
    "df_test = spark.read.format(\"csv\") \\\n",
    "      .option(\"header\", True) \\\n",
    "      .option(\"inferSchema\", True) \\\n",
    "      .load(\"idc_test.csv\")\n",
    "\n",
    "df_test.printSchema()\n",
    "print('Run time: ', time.time() - t , 'seconds')"
   ]
  },
  {
   "cell_type": "code",
   "execution_count": 51,
   "id": "b8bee4ef",
   "metadata": {},
   "outputs": [
    {
     "data": {
      "application/vnd.jupyter.widget-view+json": {
       "model_id": "cf6e0b7aa32c460ea2bce013155cd3ff",
       "version_major": 2,
       "version_minor": 0
      },
      "text/plain": [
       "VBox()"
      ]
     },
     "metadata": {},
     "output_type": "display_data"
    },
    {
     "data": {
      "application/vnd.jupyter.widget-view+json": {
       "model_id": "",
       "version_major": 2,
       "version_minor": 0
      },
      "text/plain": [
       "FloatProgress(value=0.0, bar_style='info', description='Progress:', layout=Layout(height='25px', width='50%'),…"
      ]
     },
     "metadata": {},
     "output_type": "display_data"
    },
    {
     "name": "stdout",
     "output_type": "stream",
     "text": [
      "Run time:  0.07856297492980957 seconds"
     ]
    }
   ],
   "source": [
    "# Set unwanted values as Null (such as fare_amount=0 etc.)\n",
    "t = time.time()\n",
    "\n",
    "df_test = df_test.withColumn(\"pickup_datetime\",when(df_test.pickup_datetime==0,np.nan).otherwise(df_test.pickup_datetime))\n",
    "df_test = df_test.withColumn(\"pickup_longitude\",when(df_test.pickup_longitude==0,np.nan).otherwise(df_test.pickup_longitude))\n",
    "df_test = df_test.withColumn(\"pickup_latitude\",when(df_test.pickup_latitude==0,np.nan).otherwise(df_test.pickup_latitude))\n",
    "df_test = df_test.withColumn(\"dropoff_longitude\",when(df_test.dropoff_longitude==0,np.nan).otherwise(df_test.dropoff_longitude))\n",
    "df_test = df_test.withColumn(\"dropoff_latitude\",when(df_test.dropoff_latitude==0,np.nan).otherwise(df_test.dropoff_latitude))\n",
    "df_test = df_test.withColumn(\"passenger_count\",when(df_test.passenger_count==0,np.nan).otherwise(df_test.passenger_count))\n",
    "df_test = df_test.withColumn(\"passenger_count\",when(df_test.passenger_count>5,np.nan).otherwise(df_test.passenger_count))\n",
    "\n",
    "print('Run time: ', time.time() - t , 'seconds')"
   ]
  },
  {
   "cell_type": "code",
   "execution_count": 52,
   "id": "9bfbc0ea",
   "metadata": {},
   "outputs": [
    {
     "data": {
      "application/vnd.jupyter.widget-view+json": {
       "model_id": "c2947e55c1404a02a20cc241009a3b43",
       "version_major": 2,
       "version_minor": 0
      },
      "text/plain": [
       "VBox()"
      ]
     },
     "metadata": {},
     "output_type": "display_data"
    },
    {
     "data": {
      "application/vnd.jupyter.widget-view+json": {
       "model_id": "",
       "version_major": 2,
       "version_minor": 0
      },
      "text/plain": [
       "FloatProgress(value=0.0, bar_style='info', description='Progress:', layout=Layout(height='25px', width='50%'),…"
      ]
     },
     "metadata": {},
     "output_type": "display_data"
    },
    {
     "name": "stdout",
     "output_type": "stream",
     "text": [
      "Run time:  0.026969432830810547 seconds"
     ]
    }
   ],
   "source": [
    "# passenger - from string to integer\n",
    "# Statistics\n",
    "t = time.time()\n",
    "\n",
    "df_test = df_test.withColumn(\"passenger_count\", df_test[\"passenger_count\"].cast(IntegerType()))\n",
    "df_test = df_test.withColumn('pickup_longitude', df_test['pickup_longitude'].cast('float'))\n",
    "df_test = df_test.withColumn('pickup_latitude', df_test['pickup_latitude'].cast('float'))\n",
    "df_test = df_test.withColumn('dropoff_longitude', df_test['dropoff_longitude'].cast('float'))\n",
    "df_test = df_test.withColumn('dropoff_latitude', df_test['dropoff_latitude'].cast('float'))\n",
    "\n",
    "print('Run time: ', time.time() - t , 'seconds')"
   ]
  },
  {
   "cell_type": "code",
   "execution_count": 53,
   "id": "c0af4f12",
   "metadata": {},
   "outputs": [
    {
     "data": {
      "application/vnd.jupyter.widget-view+json": {
       "model_id": "c483523aab9040f5a60232fc560431ad",
       "version_major": 2,
       "version_minor": 0
      },
      "text/plain": [
       "VBox()"
      ]
     },
     "metadata": {},
     "output_type": "display_data"
    },
    {
     "data": {
      "application/vnd.jupyter.widget-view+json": {
       "model_id": "",
       "version_major": 2,
       "version_minor": 0
      },
      "text/plain": [
       "FloatProgress(value=0.0, bar_style='info', description='Progress:', layout=Layout(height='25px', width='50%'),…"
      ]
     },
     "metadata": {},
     "output_type": "display_data"
    },
    {
     "name": "stdout",
     "output_type": "stream",
     "text": [
      "+--------+--------------------+----------------+---------------+-----------------+----------------+---------------+\n",
      "|     key|     pickup_datetime|pickup_longitude|pickup_latitude|dropoff_longitude|dropoff_latitude|passenger_count|\n",
      "+--------+--------------------+----------------+---------------+-----------------+----------------+---------------+\n",
      "|19990001|2012-05-31 07:04:...|       -73.94636|      40.792088|        -73.96618|       40.764984|              2|\n",
      "|19990002|2015-01-27 20:51:...|       -73.97137|        40.7604|       -73.995346|       40.744392|              0|\n",
      "|19990003|2015-05-18 16:41:...|       -73.96013|       40.76694|        -73.95677|        40.77497|              5|\n",
      "|19990004|2009-05-30 04:13:...|       -73.98996|       40.72943|       -73.994835|       40.743565|              1|\n",
      "|19990005|2010-04-08 07:55:...|       -73.96511|      40.791817|        -73.94468|       40.773884|              1|\n",
      "|19990006|2010-03-05 21:35:...|       -73.98098|       40.75984|        -73.98247|       40.742813|              1|\n",
      "|19990007|2009-04-10 14:04:...|       -73.98992|       40.76732|       -73.993195|       40.749657|              1|\n",
      "|19990008|2009-12-28 16:58:...|       -73.90749|      40.703922|        -73.92747|       40.704926|              1|\n",
      "|19990009|2010-07-22 01:04:...|       -73.96423|       40.77099|        -73.97126|       40.765804|              1|\n",
      "|19990010|2011-07-29 23:17:...|       -73.97981|      40.738976|        -73.98359|        40.72161|              2|\n",
      "|19990011|2015-05-12 17:27:...|       -74.00958|       40.70547|          -73.997|       40.734158|              1|\n",
      "|19990012|2011-10-13 00:07:...|       -73.97613|      40.765427|        -73.96399|        40.79803|              1|\n",
      "|19990013|2011-05-02 21:14:...|       -73.97986|       40.73921|       -73.995834|       40.720974|              1|\n",
      "|19990014|2013-01-28 11:49:...|       -73.90749|      40.703922|        -73.92747|       40.704926|              1|\n",
      "|19990015|2014-01-06 00:31:...|      -74.004036|        40.7133|       -73.966354|       40.690605|              4|\n",
      "|19990016|2010-02-28 22:28:...|       -73.99408|        40.7514|       -73.977905|       40.746494|              1|\n",
      "|19990017|2014-12-18 20:34:...|      -73.960815|      40.769947|       -73.978714|       40.777588|              1|\n",
      "|19990018|2012-09-07 16:09:...|       -73.97951|      40.761196|        -73.96603|       40.765095|              1|\n",
      "|19990019|2013-01-12 23:12:...|      -73.995285|      40.739227|        -73.98354|       40.776005|              2|\n",
      "|19990020|2015-04-08 05:32:...|       -73.95289|        40.8105|        -73.98813|         40.7442|              1|\n",
      "+--------+--------------------+----------------+---------------+-----------------+----------------+---------------+\n",
      "only showing top 20 rows"
     ]
    }
   ],
   "source": [
    "from pyspark.ml.feature import Imputer\n",
    "imputer=Imputer(inputCols=[\"pickup_longitude\",\"pickup_latitude\",\"dropoff_longitude\",\"dropoff_latitude\",\"passenger_count\"],\n",
    "                outputCols=[\"pickup_longitude\",\"pickup_latitude\",\"dropoff_longitude\",\"dropoff_latitude\",\"passenger_count\"])\n",
    "\n",
    "model=imputer.fit(df_test)\n",
    "df_test = model.transform(df_test)\n",
    "\n",
    "df_test.show()\n",
    "# imputer.setStrategy(\"median\").setMissingValue(1.0).fit(df_test).transform(df_test).show()"
   ]
  },
  {
   "cell_type": "markdown",
   "id": "11aa975d",
   "metadata": {},
   "source": [
    "### Feature engineering"
   ]
  },
  {
   "cell_type": "code",
   "execution_count": 54,
   "id": "d0977cf4",
   "metadata": {},
   "outputs": [
    {
     "data": {
      "application/vnd.jupyter.widget-view+json": {
       "model_id": "31ddb9c02c024aa8bf28ee0437880275",
       "version_major": 2,
       "version_minor": 0
      },
      "text/plain": [
       "VBox()"
      ]
     },
     "metadata": {},
     "output_type": "display_data"
    },
    {
     "data": {
      "application/vnd.jupyter.widget-view+json": {
       "model_id": "",
       "version_major": 2,
       "version_minor": 0
      },
      "text/plain": [
       "FloatProgress(value=0.0, bar_style='info', description='Progress:', layout=Layout(height='25px', width='50%'),…"
      ]
     },
     "metadata": {},
     "output_type": "display_data"
    },
    {
     "name": "stdout",
     "output_type": "stream",
     "text": [
      "Run time:  0.10367178916931152 seconds"
     ]
    }
   ],
   "source": [
    "# adding relevanr columns\n",
    "t = time.time()\n",
    "\n",
    "# adding hour_of_day column \n",
    "df_test = df_test.withColumn(\"hour_of_day\", hour(col('pickup_datetime')))\n",
    "\n",
    "# adding day_of_week column\n",
    "df_test = df_test.withColumn(\"day_of_week\", dayofweek(col('pickup_datetime')))\n",
    "\n",
    "# adding month_of_year column \n",
    "df_test = df_test.withColumn(\"month_of_year\", month(col('pickup_datetime')))\n",
    "\n",
    "# add column of distance as calculated in the function\n",
    "df_test = df_test.withColumn(\"distance\", distance(col(\"pickup_latitude\"), col(\"pickup_longitude\"), col(\"dropoff_latitude\"), col(\"dropoff_longitude\")))\n",
    "\n",
    "print('Run time: ', time.time() - t , 'seconds')"
   ]
  },
  {
   "cell_type": "code",
   "execution_count": 55,
   "id": "4f73c5f4",
   "metadata": {},
   "outputs": [
    {
     "data": {
      "application/vnd.jupyter.widget-view+json": {
       "model_id": "00e95a0f4c0a42daa2bdff7e74fd6825",
       "version_major": 2,
       "version_minor": 0
      },
      "text/plain": [
       "VBox()"
      ]
     },
     "metadata": {},
     "output_type": "display_data"
    },
    {
     "data": {
      "application/vnd.jupyter.widget-view+json": {
       "model_id": "",
       "version_major": 2,
       "version_minor": 0
      },
      "text/plain": [
       "FloatProgress(value=0.0, bar_style='info', description='Progress:', layout=Layout(height='25px', width='50%'),…"
      ]
     },
     "metadata": {},
     "output_type": "display_data"
    },
    {
     "name": "stdout",
     "output_type": "stream",
     "text": [
      "+--------+---------------+------------------+-----------+-----------+--------------------+\n",
      "|     key|passenger_count|          distance|hour_of_day|day_of_week|              vector|\n",
      "+--------+---------------+------------------+-----------+-----------+--------------------+\n",
      "|19990001|              2| 3.445027998950589|          7|          5|[2.0,3.4450279989...|\n",
      "|19990002|              0| 2.692155938508404|         20|          3|[0.0,2.6921559385...|\n",
      "|19990003|              5|0.9365699721459226|         16|          2|[5.0,0.9365699721...|\n",
      "|19990004|              1|1.6243606370807382|          4|          7|[1.0,1.6243606370...|\n",
      "|19990005|              1| 2.633528396391398|          7|          5|[1.0,2.6335283963...|\n",
      "|19990006|              1|1.8972364234079255|         21|          6|[1.0,1.8972364234...|\n",
      "|19990007|              1|1.9831838558644683|         14|          6|[1.0,1.9831838558...|\n",
      "|19990008|              1| 1.687381284474482|         16|          2|[1.0,1.6873812844...|\n",
      "|19990009|              1|0.8261118436573813|          1|          5|[1.0,0.8261118436...|\n",
      "|19990010|              2|1.9568917063933133|         23|          6|[2.0,1.9568917063...|\n",
      "|19990011|              1|3.3613911162582375|         17|          3|[1.0,3.3613911162...|\n",
      "|19990012|              1| 3.766724453100299|          0|          5|[1.0,3.7667244531...|\n",
      "|19990013|              1| 2.433756923877278|         21|          2|[1.0,2.4337569238...|\n",
      "|19990014|              1| 1.687381284474482|         11|          2|[1.0,1.6873812844...|\n",
      "|19990015|              4| 4.056811835753567|          0|          2|[4.0,4.0568118357...|\n",
      "|19990016|              1|1.4676424920183073|         22|          1|[1.0,1.4676424920...|\n",
      "|19990017|              1| 1.730166570122414|         20|          5|[1.0,1.7301665701...|\n",
      "|19990018|              1|1.2153361159305118|         16|          6|[1.0,1.2153361159...|\n",
      "|19990019|              2| 4.207355201456676|         23|          7|[2.0,4.2073552014...|\n",
      "|19990020|              1| 7.946932554930274|          5|          4|[1.0,7.9469325549...|\n",
      "+--------+---------------+------------------+-----------+-----------+--------------------+\n",
      "only showing top 20 rows\n",
      "\n",
      "Run time:  1.0776901245117188 seconds"
     ]
    }
   ],
   "source": [
    "# select the relevant columns and making tuple column from all relevant columns (features)\n",
    "\n",
    "t = time.time()\n",
    "\n",
    "selected = [\"key\", \"passenger_count\", \"distance\", \n",
    "            \"hour_of_day\", \"day_of_week\"]\n",
    "\n",
    "filtered_test = df_test.select(*selected)\n",
    "\n",
    "# making column as a tuple of all features\n",
    "vectored = VectorAssembler(inputCols=['passenger_count','distance','hour_of_day','day_of_week'], outputCol='vector')\n",
    "vectored.setHandleInvalid(\"skip\").transform(filtered_test)\n",
    "filtered_test = vectored.transform(filtered_test)\n",
    "\n",
    "\n",
    "filtered_test.show()\n",
    "\n",
    "print('Run time: ', time.time() - t , 'seconds')"
   ]
  },
  {
   "cell_type": "code",
   "execution_count": 56,
   "id": "1e30f580",
   "metadata": {},
   "outputs": [
    {
     "data": {
      "application/vnd.jupyter.widget-view+json": {
       "model_id": "329b384224a944c0a5b5488365ad1472",
       "version_major": 2,
       "version_minor": 0
      },
      "text/plain": [
       "VBox()"
      ]
     },
     "metadata": {},
     "output_type": "display_data"
    },
    {
     "data": {
      "application/vnd.jupyter.widget-view+json": {
       "model_id": "",
       "version_major": 2,
       "version_minor": 0
      },
      "text/plain": [
       "FloatProgress(value=0.0, bar_style='info', description='Progress:', layout=Layout(height='25px', width='50%'),…"
      ]
     },
     "metadata": {},
     "output_type": "display_data"
    },
    {
     "name": "stdout",
     "output_type": "stream",
     "text": [
      "+--------+---------------+------------------+-----------+-----------+--------------------+--------------------+\n",
      "|     key|passenger_count|          distance|hour_of_day|day_of_week|              vector|       scaled_vector|\n",
      "+--------+---------------+------------------+-----------+-----------+--------------------+--------------------+\n",
      "|19990001|              2| 3.445027998950589|          7|          5|[2.0,3.4450279989...|[1.70746675972262...|\n",
      "|19990002|              0| 2.692155938508404|         20|          3|[0.0,2.6921559385...|[0.0,0.0275662682...|\n",
      "|19990003|              5|0.9365699721459226|         16|          2|[5.0,0.9365699721...|[4.26866689930655...|\n",
      "|19990004|              1|1.6243606370807382|          4|          7|[1.0,1.6243606370...|[0.85373337986131...|\n",
      "|19990005|              1| 2.633528396391398|          7|          5|[1.0,2.6335283963...|[0.85373337986131...|\n",
      "|19990006|              1|1.8972364234079255|         21|          6|[1.0,1.8972364234...|[0.85373337986131...|\n",
      "|19990007|              1|1.9831838558644683|         14|          6|[1.0,1.9831838558...|[0.85373337986131...|\n",
      "|19990008|              1| 1.687381284474482|         16|          2|[1.0,1.6873812844...|[0.85373337986131...|\n",
      "|19990009|              1|0.8261118436573813|          1|          5|[1.0,0.8261118436...|[0.85373337986131...|\n",
      "|19990010|              2|1.9568917063933133|         23|          6|[2.0,1.9568917063...|[1.70746675972262...|\n",
      "|19990011|              1|3.3613911162582375|         17|          3|[1.0,3.3613911162...|[0.85373337986131...|\n",
      "|19990012|              1| 3.766724453100299|          0|          5|[1.0,3.7667244531...|[0.85373337986131...|\n",
      "|19990013|              1| 2.433756923877278|         21|          2|[1.0,2.4337569238...|[0.85373337986131...|\n",
      "|19990014|              1| 1.687381284474482|         11|          2|[1.0,1.6873812844...|[0.85373337986131...|\n",
      "|19990015|              4| 4.056811835753567|          0|          2|[4.0,4.0568118357...|[3.41493351944524...|\n",
      "|19990016|              1|1.4676424920183073|         22|          1|[1.0,1.4676424920...|[0.85373337986131...|\n",
      "|19990017|              1| 1.730166570122414|         20|          5|[1.0,1.7301665701...|[0.85373337986131...|\n",
      "|19990018|              1|1.2153361159305118|         16|          6|[1.0,1.2153361159...|[0.85373337986131...|\n",
      "|19990019|              2| 4.207355201456676|         23|          7|[2.0,4.2073552014...|[1.70746675972262...|\n",
      "|19990020|              1| 7.946932554930274|          5|          4|[1.0,7.9469325549...|[0.85373337986131...|\n",
      "+--------+---------------+------------------+-----------+-----------+--------------------+--------------------+\n",
      "only showing top 20 rows\n",
      "\n",
      "Run time:  1.6855437755584717 seconds"
     ]
    }
   ],
   "source": [
    "# StandardScaler - scaling the data\n",
    "t = time.time()\n",
    "scalar = StandardScaler().setInputCol('vector').setOutputCol('scaled_vector')\n",
    "scalar_model = scalar.fit(filtered_test)\n",
    "scalar_test = scalar_model.transform(filtered_test)\n",
    "\n",
    "scalar_test.show()\n",
    "print('Run time: ', time.time() - t , 'seconds')"
   ]
  },
  {
   "cell_type": "markdown",
   "id": "ba53fb05",
   "metadata": {},
   "source": [
    "### Prediction"
   ]
  },
  {
   "cell_type": "code",
   "execution_count": 57,
   "id": "bee8cec9",
   "metadata": {},
   "outputs": [
    {
     "data": {
      "application/vnd.jupyter.widget-view+json": {
       "model_id": "7f5fef9aa52d4a16854a2b0f6f301851",
       "version_major": 2,
       "version_minor": 0
      },
      "text/plain": [
       "VBox()"
      ]
     },
     "metadata": {},
     "output_type": "display_data"
    },
    {
     "data": {
      "application/vnd.jupyter.widget-view+json": {
       "model_id": "",
       "version_major": 2,
       "version_minor": 0
      },
      "text/plain": [
       "FloatProgress(value=0.0, bar_style='info', description='Progress:', layout=Layout(height='25px', width='50%'),…"
      ]
     },
     "metadata": {},
     "output_type": "display_data"
    },
    {
     "name": "stdout",
     "output_type": "stream",
     "text": [
      "+----------+-----+\n",
      "|prediction|count|\n",
      "+----------+-----+\n",
      "|       1.0| 3414|\n",
      "|       0.0| 6586|\n",
      "+----------+-----+\n",
      "\n",
      "Run time:  1.2532753944396973 seconds"
     ]
    }
   ],
   "source": [
    "# predict with best fit:\n",
    "t = time.time()\n",
    "\n",
    "pretict_test = chosen_model.transform(scalar_test) #### Choose automatically from the best score model\n",
    "pretict_test.groupBy('prediction').count().show()\n",
    "\n",
    "\n",
    "print('Run time: ', time.time() - t , 'seconds')"
   ]
  },
  {
   "cell_type": "code",
   "execution_count": 64,
   "id": "ff73a63b",
   "metadata": {},
   "outputs": [
    {
     "data": {
      "application/vnd.jupyter.widget-view+json": {
       "model_id": "191eb381ac7441e88fc985dbece7b26f",
       "version_major": 2,
       "version_minor": 0
      },
      "text/plain": [
       "VBox()"
      ]
     },
     "metadata": {},
     "output_type": "display_data"
    },
    {
     "data": {
      "application/vnd.jupyter.widget-view+json": {
       "model_id": "",
       "version_major": 2,
       "version_minor": 0
      },
      "text/plain": [
       "FloatProgress(value=0.0, bar_style='info', description='Progress:', layout=Layout(height='25px', width='50%'),…"
      ]
     },
     "metadata": {},
     "output_type": "display_data"
    },
    {
     "name": "stdout",
     "output_type": "stream",
     "text": [
      "+--------+---------+\n",
      "|     key|high_fare|\n",
      "+--------+---------+\n",
      "|19990001|      1.0|\n",
      "|19990002|      0.0|\n",
      "|19990003|      0.0|\n",
      "|19990004|      0.0|\n",
      "|19990005|      0.0|\n",
      "|19990006|      0.0|\n",
      "|19990007|      0.0|\n",
      "|19990008|      0.0|\n",
      "|19990009|      0.0|\n",
      "|19990010|      0.0|\n",
      "|19990011|      1.0|\n",
      "|19990012|      1.0|\n",
      "|19990013|      0.0|\n",
      "|19990014|      0.0|\n",
      "|19990015|      1.0|\n",
      "|19990016|      0.0|\n",
      "|19990017|      0.0|\n",
      "|19990018|      0.0|\n",
      "|19990019|      1.0|\n",
      "|19990020|      1.0|\n",
      "+--------+---------+\n",
      "only showing top 20 rows\n",
      "\n",
      "Run time:  0.3719048500061035 seconds"
     ]
    }
   ],
   "source": [
    "# final result:\n",
    "t = time.time()\n",
    "\n",
    "final_test = pretict_test.select('key', 'prediction')\n",
    "final_test = final_test.withColumnRenamed(\"prediction\", \"high_fare\")\n",
    "final_test.show()\n",
    "\n",
    "print('Run time: ', time.time() - t , 'seconds')"
   ]
  },
  {
   "cell_type": "code",
   "execution_count": 65,
   "id": "d18862a2",
   "metadata": {},
   "outputs": [
    {
     "data": {
      "application/vnd.jupyter.widget-view+json": {
       "model_id": "173484cdf93b41a4b7e9f86fe08f6a34",
       "version_major": 2,
       "version_minor": 0
      },
      "text/plain": [
       "VBox()"
      ]
     },
     "metadata": {},
     "output_type": "display_data"
    },
    {
     "data": {
      "application/vnd.jupyter.widget-view+json": {
       "model_id": "",
       "version_major": 2,
       "version_minor": 0
      },
      "text/plain": [
       "FloatProgress(value=0.0, bar_style='info', description='Progress:', layout=Layout(height='25px', width='50%'),…"
      ]
     },
     "metadata": {},
     "output_type": "display_data"
    }
   ],
   "source": [
    "final_test = final_test.withColumnRenamed(\"prediction\", \"high_fare\")"
   ]
  },
  {
   "cell_type": "code",
   "execution_count": 67,
   "id": "67a54aaf",
   "metadata": {},
   "outputs": [
    {
     "data": {
      "application/vnd.jupyter.widget-view+json": {
       "model_id": "f910d3525fd84afa8c0001920b6b3553",
       "version_major": 2,
       "version_minor": 0
      },
      "text/plain": [
       "VBox()"
      ]
     },
     "metadata": {},
     "output_type": "display_data"
    },
    {
     "data": {
      "application/vnd.jupyter.widget-view+json": {
       "model_id": "",
       "version_major": 2,
       "version_minor": 0
      },
      "text/plain": [
       "FloatProgress(value=0.0, bar_style='info', description='Progress:', layout=Layout(height='25px', width='50%'),…"
      ]
     },
     "metadata": {},
     "output_type": "display_data"
    },
    {
     "name": "stdout",
     "output_type": "stream",
     "text": [
      "Run time:  1.0849847793579102 seconds"
     ]
    }
   ],
   "source": [
    "t = time.time()\n",
    "final_test.write.option(\"header\", \"true\").csv('prediction_file3.csv')\n",
    "\n",
    "print('Run time: ', time.time() - t , 'seconds')"
   ]
  },
  {
   "cell_type": "code",
   "execution_count": 53,
   "id": "3d389f75",
   "metadata": {},
   "outputs": [
    {
     "data": {
      "application/vnd.jupyter.widget-view+json": {
       "model_id": "1038b85b6f1e466aa5e4c5e6332198ee",
       "version_major": 2,
       "version_minor": 0
      },
      "text/plain": [
       "VBox()"
      ]
     },
     "metadata": {},
     "output_type": "display_data"
    },
    {
     "data": {
      "application/vnd.jupyter.widget-view+json": {
       "model_id": "",
       "version_major": 2,
       "version_minor": 0
      },
      "text/plain": [
       "FloatProgress(value=0.0, bar_style='info', description='Progress:', layout=Layout(height='25px', width='50%'),…"
      ]
     },
     "metadata": {},
     "output_type": "display_data"
    }
   ],
   "source": [
    "# SparkSession.stop(spark)"
   ]
  },
  {
   "cell_type": "code",
   "execution_count": 68,
   "id": "7aa1d934",
   "metadata": {},
   "outputs": [
    {
     "data": {
      "application/vnd.jupyter.widget-view+json": {
       "model_id": "eb544543e47a4a09aaeff92a3dffe019",
       "version_major": 2,
       "version_minor": 0
      },
      "text/plain": [
       "VBox()"
      ]
     },
     "metadata": {},
     "output_type": "display_data"
    },
    {
     "data": {
      "application/vnd.jupyter.widget-view+json": {
       "model_id": "",
       "version_major": 2,
       "version_minor": 0
      },
      "text/plain": [
       "FloatProgress(value=0.0, bar_style='info', description='Progress:', layout=Layout(height='25px', width='50%'),…"
      ]
     },
     "metadata": {},
     "output_type": "display_data"
    }
   ],
   "source": [
    "\n",
    "    \n",
    "    \n",
    "path = 's3://aws-emr-resources-432905257568-us-east-1/notebooks/prediction_file3.csv'\n",
    "\n",
    "final_test.repartition(1) \\\n",
    ".write \\\n",
    ".mode ('overwrite') \\\n",
    ".option('header', 'true') \\\n",
    ".option('sep',',') \\\n",
    ".csv(path)"
   ]
  },
  {
   "cell_type": "code",
   "execution_count": null,
   "id": "a70ea202",
   "metadata": {},
   "outputs": [],
   "source": []
  }
 ],
 "metadata": {
  "kernelspec": {
   "display_name": "PySpark",
   "language": "",
   "name": "pysparkkernel"
  },
  "language_info": {
   "codemirror_mode": {
    "name": "python",
    "version": 3
   },
   "mimetype": "text/x-python",
   "name": "pyspark",
   "pygments_lexer": "python3"
  }
 },
 "nbformat": 4,
 "nbformat_minor": 5
}
