{
 "cells": [
  {
   "cell_type": "code",
   "execution_count": 1,
   "metadata": {},
   "outputs": [],
   "source": [
    "import boto3\n",
    "import json"
   ]
  },
  {
   "cell_type": "code",
   "execution_count": null,
   "metadata": {},
   "outputs": [],
   "source": [
    "!mkdir ~/.aws"
   ]
  },
  {
   "cell_type": "code",
   "execution_count": 13,
   "metadata": {},
   "outputs": [],
   "source": [
    "\n",
    "!echo [default]  > ~/.aws/credentials\n",
    "!echo aws_access_key_id=xxxxxxxxxxxxxxxxxxxxx >> ~/.aws/credentials\n",
    "!echo aws_secret_access_key=xxxxxxxxxxxxxxxxxxxxxxxx >> ~/.aws/credentials\n",
    "!echo aws_session_token=xxxxxxxxxxxx >> ~/.aws/credentials\n"
   ]
  },
  {
   "cell_type": "code",
   "execution_count": 14,
   "metadata": {},
   "outputs": [
    {
     "name": "stdout",
     "output_type": "stream",
     "text": [
      "[default]\n",
      "aws_access_key_id=xxxxxxxxxxxxxxxxxxxxx\n",
      "aws_secret_access_key=xxxxxxxxxxxxxxxxxxxxxxxx\n",
      "aws_session_token=xxxxxxxxxxxx\n"
     ]
    }
   ],
   "source": [
    "!cat ~/.aws/credentials"
   ]
  },
  {
   "cell_type": "code",
   "execution_count": 16,
   "metadata": {},
   "outputs": [
    {
     "name": "stdout",
     "output_type": "stream",
     "text": [
      "Table does exists, deleting it\n"
     ]
    }
   ],
   "source": [
    "dynamodb = boto3.resource('dynamodb', region_name='us-east-1')\n",
    "dynamodb_client = boto3.client('dynamodb', region_name='us-east-1')\n",
    "try:\n",
    "    response = dynamodb_client.describe_table(TableName='test')\n",
    "except dynamodb_client.exceptions.ResourceNotFoundException:\n",
    "#     do nothing - tabe does not exist\n",
    "    print('Table does not exist')\n",
    "else:\n",
    "    print('Table does exists, deleting it')\n",
    "    dynamodb.Table('test').delete()"
   ]
  },
  {
   "cell_type": "code",
   "execution_count": 4,
   "metadata": {},
   "outputs": [
    {
     "name": "stdout",
     "output_type": "stream",
     "text": [
      "0\n"
     ]
    }
   ],
   "source": [
    "table = dynamodb.create_table(\n",
    "    TableName='test',\n",
    "    KeySchema=[\n",
    "        {\n",
    "            'AttributeName': 'author',\n",
    "            'KeyType': 'HASH'  #Partition key\n",
    "        },\n",
    "        {\n",
    "            'AttributeName': 'title_date',\n",
    "            'KeyType': 'RANGE'  #Sort key\n",
    "        }\n",
    "    ],\n",
    "    AttributeDefinitions=[\n",
    "        {\n",
    "            'AttributeName': 'author',\n",
    "            'AttributeType': 'S'\n",
    "        },\n",
    "        {\n",
    "            'AttributeName': 'title_date',\n",
    "            'AttributeType': 'S'\n",
    "        }\n",
    "    ],\n",
    "    ProvisionedThroughput={\n",
    "        'ReadCapacityUnits': 100,\n",
    "        'WriteCapacityUnits': 100,\n",
    "    }\n",
    ")\n",
    "\n",
    "table.meta.client.get_waiter('table_exists').wait(TableName='test')\n",
    "print(table.item_count)"
   ]
  },
  {
   "cell_type": "code",
   "execution_count": 5,
   "metadata": {},
   "outputs": [
    {
     "name": "stdout",
     "output_type": "stream",
     "text": [
      "1000 5b4aa4ead3089013507db572\n",
      "2000 5b4aa4ead3089013507db95a\n",
      "3000 5b4aa4ead3089013507dbd42\n",
      "4000 5b4aa4ead3089013507dc12a\n",
      "5000 5b4aa4ead3089013507dc512\n",
      "6000 5b4aa4ead3089013507dc8fa\n",
      "7000 5b4aa4ead3089013507dcce2\n",
      "8000 5b4aa4ead3089013507dd0ca\n",
      "9000 5b4aa4ead3089013507dd4b2\n",
      "10000 5b4aa4ead3089013507dd89a\n",
      "Read  10195  lines, last line:  5b4aa4ead3089013507dd95d , table count:  0\n"
     ]
    }
   ],
   "source": [
    "from decimal import Decimal\n",
    "table = dynamodb.Table('test')\n",
    "count = 0\n",
    "with open('nyt2.json', 'r') as f:\n",
    "    books_dict = json.load(f)\n",
    "for book in books_dict: \n",
    "    _id = str(book['_id'])\n",
    "    bestsellers_date = str(book['bestsellers_date'])\n",
    "    published_date = str(book['published_date'])\n",
    "    amazon_product_url = str(book['amazon_product_url'])\n",
    "    author = str(book['author'])\n",
    "    description = str(book['description'])\n",
    "    #print(_id)\n",
    "    price = Decimal(book['price'])\n",
    "    publisher = str(book['publisher'])\n",
    "    title_date = str(book['title'])+'#'+str(book['published_date'])\n",
    "    rank = int(book['rank'])\n",
    "    rank_last_week = int(book['rank_last_week'])\n",
    "    weeks_on_list = int(book['weeks_on_list'])\n",
    "    #print(price)\n",
    "    \n",
    "    table.put_item(\n",
    "        Item={\n",
    "           '_id' : _id, \n",
    "           'bestsellers_date' : bestsellers_date,\n",
    "           'published_date' : published_date,\n",
    "           'amazon_product_url' : amazon_product_url,\n",
    "           'author' : author,          \n",
    "\n",
    "           'price' : price,\n",
    "           'publisher' : publisher,\n",
    "           'title_date' : title_date,\n",
    "           'rank' : rank,\n",
    "           'rank_last_week' : rank_last_week,\n",
    "           'weeks_on_list' : weeks_on_list\n",
    "        }\n",
    "    )\n",
    "    count += 1\n",
    "    if count % 1000 == 0:\n",
    "        print(count, book['_id'])\n",
    "#eof\n",
    "print('Read ', count, ' lines, last line: ', book['_id'], ', table count: ', table.item_count) "
   ]
  },
  {
   "cell_type": "markdown",
   "metadata": {},
   "source": [
    "## Example: Show all rows where the author is John Sandford"
   ]
  },
  {
   "cell_type": "code",
   "execution_count": 11,
   "metadata": {},
   "outputs": [
    {
     "data": {
      "text/plain": [
       "0"
      ]
     },
     "execution_count": 11,
     "metadata": {},
     "output_type": "execute_result"
    }
   ],
   "source": [
    "from boto3.dynamodb.conditions import Key,Attr\n",
    "table = dynamodb.Table('test')\n",
    "response = table.query(\n",
    "  KeyConditionExpression=Key('author').eq('James Ellroy')\n",
    ")\n",
    "print(len(response['Items']))"
   ]
  }
 ],
 "metadata": {
  "kernelspec": {
   "display_name": "Python 3",
   "language": "python",
   "name": "python3"
  },
  "language_info": {
   "codemirror_mode": {
    "name": "ipython",
    "version": 3
   },
   "file_extension": ".py",
   "mimetype": "text/x-python",
   "name": "python",
   "nbconvert_exporter": "python",
   "pygments_lexer": "ipython3",
   "version": "3.6.9"
  }
 },
 "nbformat": 4,
 "nbformat_minor": 4
}
